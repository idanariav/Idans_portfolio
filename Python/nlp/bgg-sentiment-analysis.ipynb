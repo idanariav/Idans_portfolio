{
 "cells": [
  {
   "cell_type": "markdown",
   "id": "cc6400e2",
   "metadata": {
    "papermill": {
     "duration": 0.013826,
     "end_time": "2023-05-19T05:15:14.415643",
     "exception": false,
     "start_time": "2023-05-19T05:15:14.401817",
     "status": "completed"
    },
    "tags": []
   },
   "source": [
    "# BOARD GAME REVIEWS SENTIMENT ANALYSIS PROJECT\n",
    "\n",
    "This is an example project for sentiment analysis.\n",
    "It is based on a kaggle dataset scraped from Board Game Geek (like IMDB but for board games).The dataset contains both games metadata and more than 19M users rating and reviews.\n",
    "\n",
    "By using the users ratings alongside their comments, we can compare the results to the actual ratings and see whether the sentiment matches the score.\n",
    "As a best practice, we will use an NPS scoring method to label our reviews, meaning:\n",
    "0-6: Negative\n",
    "7-8: Neutral\n",
    "9-10: Postive\n",
    "\n",
    "The project includes:\n",
    "1. Import and cleaning of data\n",
    "2. EDA (exploratory data analysis)\n",
    "3. Setiment analysis\n",
    "4. Bonus section - wordcloud"
   ]
  },
  {
   "cell_type": "markdown",
   "id": "424ce016",
   "metadata": {
    "papermill": {
     "duration": 0.012999,
     "end_time": "2023-05-19T05:15:14.442153",
     "exception": false,
     "start_time": "2023-05-19T05:15:14.429154",
     "status": "completed"
    },
    "tags": []
   },
   "source": [
    "## Project set up"
   ]
  },
  {
   "cell_type": "markdown",
   "id": "16302043",
   "metadata": {
    "papermill": {
     "duration": 0.0136,
     "end_time": "2023-05-19T05:15:14.469980",
     "exception": false,
     "start_time": "2023-05-19T05:15:14.456380",
     "status": "completed"
    },
    "tags": []
   },
   "source": [
    "### Dataset explanation\n",
    "\n",
    "from this table we only take 3 relevant columns:\n",
    "\n",
    "id - game id\n",
    "comment - text comment of the game\n",
    "rating - the user's rating of the game (1-10).\n",
    "\n",
    "The data is based on ratings taken from the Board Game Geek [website](https://boardgamegeek.com)"
   ]
  },
  {
   "cell_type": "markdown",
   "id": "c81e57db",
   "metadata": {
    "papermill": {
     "duration": 0.013232,
     "end_time": "2023-05-19T05:15:14.497393",
     "exception": false,
     "start_time": "2023-05-19T05:15:14.484161",
     "status": "completed"
    },
    "tags": []
   },
   "source": [
    "### Imports"
   ]
  },
  {
   "cell_type": "code",
   "execution_count": 1,
   "id": "d290dcbb",
   "metadata": {
    "execution": {
     "iopub.execute_input": "2023-05-19T05:15:14.526924Z",
     "iopub.status.busy": "2023-05-19T05:15:14.526154Z",
     "iopub.status.idle": "2023-05-19T05:15:32.988852Z",
     "shell.execute_reply": "2023-05-19T05:15:32.987020Z"
    },
    "papermill": {
     "duration": 18.481026,
     "end_time": "2023-05-19T05:15:32.991970",
     "exception": false,
     "start_time": "2023-05-19T05:15:14.510944",
     "status": "completed"
    },
    "tags": []
   },
   "outputs": [
    {
     "name": "stdout",
     "output_type": "stream",
     "text": [
      "Collecting fasttext-langdetect\r\n",
      "  Downloading fasttext-langdetect-1.0.5.tar.gz (6.8 kB)\r\n",
      "  Preparing metadata (setup.py) ... \u001b[?25l-\b \b\\\b \b|\b \bdone\r\n",
      "\u001b[?25hRequirement already satisfied: fasttext>=0.9.1 in /opt/conda/lib/python3.10/site-packages (from fasttext-langdetect) (0.9.2)\r\n",
      "Requirement already satisfied: requests>=2.22.0 in /opt/conda/lib/python3.10/site-packages (from fasttext-langdetect) (2.28.2)\r\n",
      "Requirement already satisfied: numpy in /opt/conda/lib/python3.10/site-packages (from fasttext>=0.9.1->fasttext-langdetect) (1.23.5)\r\n",
      "Requirement already satisfied: pybind11>=2.2 in /opt/conda/lib/python3.10/site-packages (from fasttext>=0.9.1->fasttext-langdetect) (2.10.4)\r\n",
      "Requirement already satisfied: setuptools>=0.7.0 in /opt/conda/lib/python3.10/site-packages (from fasttext>=0.9.1->fasttext-langdetect) (59.8.0)\r\n",
      "Requirement already satisfied: idna<4,>=2.5 in /opt/conda/lib/python3.10/site-packages (from requests>=2.22.0->fasttext-langdetect) (3.4)\r\n",
      "Requirement already satisfied: urllib3<1.27,>=1.21.1 in /opt/conda/lib/python3.10/site-packages (from requests>=2.22.0->fasttext-langdetect) (1.26.15)\r\n",
      "Requirement already satisfied: charset-normalizer<4,>=2 in /opt/conda/lib/python3.10/site-packages (from requests>=2.22.0->fasttext-langdetect) (2.1.1)\r\n",
      "Requirement already satisfied: certifi>=2017.4.17 in /opt/conda/lib/python3.10/site-packages (from requests>=2.22.0->fasttext-langdetect) (2022.12.7)\r\n",
      "Building wheels for collected packages: fasttext-langdetect\r\n",
      "  Building wheel for fasttext-langdetect (setup.py) ... \u001b[?25l-\b \b\\\b \b|\b \b/\b \bdone\r\n",
      "\u001b[?25h  Created wheel for fasttext-langdetect: filename=fasttext_langdetect-1.0.5-py3-none-any.whl size=7523 sha256=94efa9a2926fbf0f3d3f5bd7d4e6ef63d05cc42c4352e5d0017020a4b391a9f1\r\n",
      "  Stored in directory: /root/.cache/pip/wheels/e6/5b/5d/47e2fd5c2ff1028722739ce35f365e8f6eeb89ec97aa63e621\r\n",
      "Successfully built fasttext-langdetect\r\n",
      "Installing collected packages: fasttext-langdetect\r\n",
      "Successfully installed fasttext-langdetect-1.0.5\r\n",
      "\u001b[33mWARNING: Running pip as the 'root' user can result in broken permissions and conflicting behaviour with the system package manager. It is recommended to use a virtual environment instead: https://pip.pypa.io/warnings/venv\u001b[0m\u001b[33m\r\n",
      "\u001b[0m"
     ]
    }
   ],
   "source": [
    "# the fasttext package will allow us to detect the language of the comment\n",
    "!pip install fasttext-langdetect"
   ]
  },
  {
   "cell_type": "code",
   "execution_count": 2,
   "id": "2e7adfa6",
   "metadata": {
    "execution": {
     "iopub.execute_input": "2023-05-19T05:15:33.027050Z",
     "iopub.status.busy": "2023-05-19T05:15:33.025471Z",
     "iopub.status.idle": "2023-05-19T05:15:35.822264Z",
     "shell.execute_reply": "2023-05-19T05:15:35.821082Z"
    },
    "papermill": {
     "duration": 2.818498,
     "end_time": "2023-05-19T05:15:35.825258",
     "exception": false,
     "start_time": "2023-05-19T05:15:33.006760",
     "status": "completed"
    },
    "tags": []
   },
   "outputs": [
    {
     "name": "stderr",
     "output_type": "stream",
     "text": [
      "/opt/conda/lib/python3.10/site-packages/scipy/__init__.py:146: UserWarning: A NumPy version >=1.16.5 and <1.23.0 is required for this version of SciPy (detected version 1.23.5\n",
      "  warnings.warn(f\"A NumPy version >={np_minversion} and <{np_maxversion}\"\n",
      "/opt/conda/lib/python3.10/site-packages/nltk/twitter/__init__.py:20: UserWarning: The twython library has not been installed. Some functionality from the twitter package will not be available.\n",
      "  warnings.warn(\"The twython library has not been installed. \"\n"
     ]
    }
   ],
   "source": [
    "import random\n",
    "import numpy as np \n",
    "import pandas as pd \n",
    "import os\n",
    "from basic_utils import INPUT_FOLDER, dfCleaner\n",
    "import seaborn as sns\n",
    "from matplotlib import pyplot as plt\n",
    "import nltk\n",
    "from nltk.sentiment.vader import SentimentIntensityAnalyzer\n",
    "from ftlangdetect import detect"
   ]
  },
  {
   "cell_type": "markdown",
   "id": "405496e4",
   "metadata": {
    "papermill": {
     "duration": 0.01458,
     "end_time": "2023-05-19T05:15:35.854899",
     "exception": false,
     "start_time": "2023-05-19T05:15:35.840319",
     "status": "completed"
    },
    "tags": []
   },
   "source": [
    "### Constants and functions"
   ]
  },
  {
   "cell_type": "code",
   "execution_count": 3,
   "id": "17692e23",
   "metadata": {
    "execution": {
     "iopub.execute_input": "2023-05-19T05:15:35.887787Z",
     "iopub.status.busy": "2023-05-19T05:15:35.886956Z",
     "iopub.status.idle": "2023-05-19T05:15:35.916540Z",
     "shell.execute_reply": "2023-05-19T05:15:35.915010Z"
    },
    "papermill": {
     "duration": 0.049084,
     "end_time": "2023-05-19T05:15:35.919491",
     "exception": false,
     "start_time": "2023-05-19T05:15:35.870407",
     "status": "completed"
    },
    "tags": []
   },
   "outputs": [],
   "source": [
    "# constnats\n",
    "DATA_PATH = os.path.join(INPUT_FOLDER, \"boardgamegeek-reviews\")\n",
    "RATING_COLS = ['comment','rating','ID']\n",
    "sid = SentimentIntensityAnalyzer()\n",
    "random.seed(4321)\n",
    "df_cleaner = dfCleaner()\n",
    "RANDOM_SAMPLE_SIZE = 0.05\n",
    "SAMPLE_SIZE = 10000\n",
    "custom_params = {\"axes.spines.right\": False, \"axes.spines.top\": False}\n",
    "sns.set_theme(style=\"ticks\", rc=custom_params)"
   ]
  },
  {
   "cell_type": "markdown",
   "id": "3fc7ead7",
   "metadata": {
    "papermill": {
     "duration": 0.015323,
     "end_time": "2023-05-19T05:15:35.949673",
     "exception": false,
     "start_time": "2023-05-19T05:15:35.934350",
     "status": "completed"
    },
    "tags": []
   },
   "source": [
    "The following function describes the pipeline for cleaning the text before using it in the sentiment analyzer.\n",
    "Since the sentiment analysis uses both capitalization and punctuation as features, the only change we make is to remove words that symbolizes names, since they might include game names that will be marked as sentiments.\n",
    "For example:"
   ]
  },
  {
   "cell_type": "code",
   "execution_count": 4,
   "id": "56e9c5d5",
   "metadata": {
    "execution": {
     "iopub.execute_input": "2023-05-19T05:15:35.981867Z",
     "iopub.status.busy": "2023-05-19T05:15:35.981427Z",
     "iopub.status.idle": "2023-05-19T05:15:35.990816Z",
     "shell.execute_reply": "2023-05-19T05:15:35.989490Z"
    },
    "papermill": {
     "duration": 0.028366,
     "end_time": "2023-05-19T05:15:35.993409",
     "exception": false,
     "start_time": "2023-05-19T05:15:35.965043",
     "status": "completed"
    },
    "tags": []
   },
   "outputs": [
    {
     "data": {
      "text/plain": [
       "{'neg': 0.737, 'neu': 0.0, 'pos': 0.263, 'compound': -0.6705}"
      ]
     },
     "execution_count": 4,
     "metadata": {},
     "output_type": "execute_result"
    }
   ],
   "source": [
    "# here the negative score is very high, althoguh it shouldnt be\n",
    "sid.polarity_scores(\"I like Cry Havoc\")"
   ]
  },
  {
   "cell_type": "code",
   "execution_count": 5,
   "id": "69f03851",
   "metadata": {
    "execution": {
     "iopub.execute_input": "2023-05-19T05:15:36.027097Z",
     "iopub.status.busy": "2023-05-19T05:15:36.026062Z",
     "iopub.status.idle": "2023-05-19T05:15:36.034495Z",
     "shell.execute_reply": "2023-05-19T05:15:36.033238Z"
    },
    "papermill": {
     "duration": 0.027852,
     "end_time": "2023-05-19T05:15:36.036886",
     "exception": false,
     "start_time": "2023-05-19T05:15:36.009034",
     "status": "completed"
    },
    "tags": []
   },
   "outputs": [
    {
     "data": {
      "text/plain": [
       "{'neg': 0.0, 'neu': 0.0, 'pos': 1.0, 'compound': 0.3612}"
      ]
     },
     "execution_count": 5,
     "metadata": {},
     "output_type": "execute_result"
    }
   ],
   "source": [
    "# hin comparison with\n",
    "sid.polarity_scores(\"I like\")"
   ]
  },
  {
   "cell_type": "code",
   "execution_count": 6,
   "id": "ff6c99cf",
   "metadata": {
    "execution": {
     "iopub.execute_input": "2023-05-19T05:15:36.070248Z",
     "iopub.status.busy": "2023-05-19T05:15:36.069569Z",
     "iopub.status.idle": "2023-05-19T05:15:36.075996Z",
     "shell.execute_reply": "2023-05-19T05:15:36.075002Z"
    },
    "papermill": {
     "duration": 0.026524,
     "end_time": "2023-05-19T05:15:36.078474",
     "exception": false,
     "start_time": "2023-05-19T05:15:36.051950",
     "status": "completed"
    },
    "tags": []
   },
   "outputs": [],
   "source": [
    "def word_cleaning_pipeline(sentence):\n",
    "    new_sentence = []\n",
    "    for word, tag in nltk.pos_tag(nltk.word_tokenize(sentence)):\n",
    "        if tag != \"NNP\":\n",
    "            new_sentence.append(word)\n",
    "    fixed_text = ' '.join(new_sentence)\n",
    "    return fixed_text"
   ]
  },
  {
   "cell_type": "markdown",
   "id": "a6cd88ba",
   "metadata": {
    "papermill": {
     "duration": 0.015273,
     "end_time": "2023-05-19T05:15:36.109913",
     "exception": false,
     "start_time": "2023-05-19T05:15:36.094640",
     "status": "completed"
    },
    "tags": []
   },
   "source": [
    "### Data import"
   ]
  },
  {
   "cell_type": "code",
   "execution_count": 7,
   "id": "a2b7edea",
   "metadata": {
    "execution": {
     "iopub.execute_input": "2023-05-19T05:15:36.143283Z",
     "iopub.status.busy": "2023-05-19T05:15:36.142627Z",
     "iopub.status.idle": "2023-05-19T05:16:19.093179Z",
     "shell.execute_reply": "2023-05-19T05:16:19.091923Z"
    },
    "papermill": {
     "duration": 42.983277,
     "end_time": "2023-05-19T05:16:19.108735",
     "exception": false,
     "start_time": "2023-05-19T05:15:36.125458",
     "status": "completed"
    },
    "tags": []
   },
   "outputs": [
    {
     "data": {
      "text/html": [
       "<div>\n",
       "<style scoped>\n",
       "    .dataframe tbody tr th:only-of-type {\n",
       "        vertical-align: middle;\n",
       "    }\n",
       "\n",
       "    .dataframe tbody tr th {\n",
       "        vertical-align: top;\n",
       "    }\n",
       "\n",
       "    .dataframe thead th {\n",
       "        text-align: right;\n",
       "    }\n",
       "</style>\n",
       "<table border=\"1\" class=\"dataframe\">\n",
       "  <thead>\n",
       "    <tr style=\"text-align: right;\">\n",
       "      <th></th>\n",
       "      <th>rating</th>\n",
       "      <th>comment</th>\n",
       "      <th>id</th>\n",
       "    </tr>\n",
       "  </thead>\n",
       "  <tbody>\n",
       "    <tr>\n",
       "      <th>678665</th>\n",
       "      <td>5.0</td>\n",
       "      <td>NaN</td>\n",
       "      <td>11634</td>\n",
       "    </tr>\n",
       "    <tr>\n",
       "      <th>888923</th>\n",
       "      <td>3.0</td>\n",
       "      <td>NaN</td>\n",
       "      <td>8497</td>\n",
       "    </tr>\n",
       "    <tr>\n",
       "      <th>424233</th>\n",
       "      <td>6.0</td>\n",
       "      <td>NaN</td>\n",
       "      <td>172081</td>\n",
       "    </tr>\n",
       "    <tr>\n",
       "      <th>370092</th>\n",
       "      <td>6.5</td>\n",
       "      <td>NaN</td>\n",
       "      <td>48726</td>\n",
       "    </tr>\n",
       "    <tr>\n",
       "      <th>245023</th>\n",
       "      <td>8.0</td>\n",
       "      <td>NaN</td>\n",
       "      <td>155426</td>\n",
       "    </tr>\n",
       "    <tr>\n",
       "      <th>521808</th>\n",
       "      <td>8.0</td>\n",
       "      <td>NaN</td>\n",
       "      <td>21050</td>\n",
       "    </tr>\n",
       "    <tr>\n",
       "      <th>448729</th>\n",
       "      <td>7.0</td>\n",
       "      <td>NaN</td>\n",
       "      <td>24068</td>\n",
       "    </tr>\n",
       "    <tr>\n",
       "      <th>794523</th>\n",
       "      <td>8.0</td>\n",
       "      <td>NaN</td>\n",
       "      <td>75223</td>\n",
       "    </tr>\n",
       "    <tr>\n",
       "      <th>660864</th>\n",
       "      <td>7.0</td>\n",
       "      <td>NaN</td>\n",
       "      <td>6607</td>\n",
       "    </tr>\n",
       "    <tr>\n",
       "      <th>346235</th>\n",
       "      <td>5.0</td>\n",
       "      <td>NaN</td>\n",
       "      <td>2243</td>\n",
       "    </tr>\n",
       "  </tbody>\n",
       "</table>\n",
       "</div>"
      ],
      "text/plain": [
       "        rating comment      id\n",
       "678665     5.0     NaN   11634\n",
       "888923     3.0     NaN    8497\n",
       "424233     6.0     NaN  172081\n",
       "370092     6.5     NaN   48726\n",
       "245023     8.0     NaN  155426\n",
       "521808     8.0     NaN   21050\n",
       "448729     7.0     NaN   24068\n",
       "794523     8.0     NaN   75223\n",
       "660864     7.0     NaN    6607\n",
       "346235     5.0     NaN    2243"
      ]
     },
     "execution_count": 7,
     "metadata": {},
     "output_type": "execute_result"
    }
   ],
   "source": [
    "# for the sake of speed, we read a random 5% of the rows, which are ~1M rows\n",
    "reviews = pd.read_csv(os.path.join(DATA_PATH, \"bgg-19m-reviews.csv\"), \n",
    "                     usecols=RATING_COLS, skiprows=lambda x: x > 0 and random.random() >=RANDOM_SAMPLE_SIZE)\n",
    "df_cleaner.column_name_cleaner(df_to_clean=reviews)\n",
    "reviews.sample(10)"
   ]
  },
  {
   "cell_type": "markdown",
   "id": "d7c06adb",
   "metadata": {
    "papermill": {
     "duration": 0.014985,
     "end_time": "2023-05-19T05:16:19.138981",
     "exception": false,
     "start_time": "2023-05-19T05:16:19.123996",
     "status": "completed"
    },
    "tags": []
   },
   "source": [
    "## EDA"
   ]
  },
  {
   "cell_type": "markdown",
   "id": "b3c6b3b9",
   "metadata": {
    "papermill": {
     "duration": 0.015043,
     "end_time": "2023-05-19T05:16:19.170011",
     "exception": false,
     "start_time": "2023-05-19T05:16:19.154968",
     "status": "completed"
    },
    "tags": []
   },
   "source": [
    "we can see that most of the comments column is empty.\n",
    "which makes sense since most reviews tend to only leave a rating without\n",
    "a comment"
   ]
  },
  {
   "cell_type": "code",
   "execution_count": 8,
   "id": "9dfa8957",
   "metadata": {
    "execution": {
     "iopub.execute_input": "2023-05-19T05:16:19.204585Z",
     "iopub.status.busy": "2023-05-19T05:16:19.204146Z",
     "iopub.status.idle": "2023-05-19T05:16:19.498189Z",
     "shell.execute_reply": "2023-05-19T05:16:19.496971Z"
    },
    "papermill": {
     "duration": 0.313972,
     "end_time": "2023-05-19T05:16:19.500667",
     "exception": false,
     "start_time": "2023-05-19T05:16:19.186695",
     "status": "completed"
    },
    "tags": []
   },
   "outputs": [
    {
     "name": "stdout",
     "output_type": "stream",
     "text": [
      "<class 'pandas.core.frame.DataFrame'>\n",
      "RangeIndex: 948305 entries, 0 to 948304\n",
      "Data columns (total 3 columns):\n",
      " #   Column   Non-Null Count   Dtype  \n",
      "---  ------   --------------   -----  \n",
      " 0   rating   948305 non-null  float64\n",
      " 1   comment  168340 non-null  object \n",
      " 2   id       948305 non-null  int64  \n",
      "dtypes: float64(1), int64(1), object(1)\n",
      "memory usage: 21.7+ MB\n"
     ]
    }
   ],
   "source": [
    "reviews.info()"
   ]
  },
  {
   "cell_type": "code",
   "execution_count": 9,
   "id": "45d38881",
   "metadata": {
    "execution": {
     "iopub.execute_input": "2023-05-19T05:16:19.535484Z",
     "iopub.status.busy": "2023-05-19T05:16:19.534729Z",
     "iopub.status.idle": "2023-05-19T05:16:19.610933Z",
     "shell.execute_reply": "2023-05-19T05:16:19.609883Z"
    },
    "papermill": {
     "duration": 0.096486,
     "end_time": "2023-05-19T05:16:19.613514",
     "exception": false,
     "start_time": "2023-05-19T05:16:19.517028",
     "status": "completed"
    },
    "tags": []
   },
   "outputs": [],
   "source": [
    "# add a T/F column whether the rating is accompanied by a comment\n",
    "reviews['has_comment'] = np.where(reviews['comment'].isna(), False, True)"
   ]
  },
  {
   "cell_type": "markdown",
   "id": "8e9ee31f",
   "metadata": {
    "papermill": {
     "duration": 0.015546,
     "end_time": "2023-05-19T05:16:19.645187",
     "exception": false,
     "start_time": "2023-05-19T05:16:19.629641",
     "status": "completed"
    },
    "tags": []
   },
   "source": [
    "we can see here similar distribution between ratings with and without comments\n",
    "suggesting that adding a comment doesn't provide us with information of the expected rating of that game. \n",
    "Or in simple words - those who comment do so for good and bad games."
   ]
  },
  {
   "cell_type": "code",
   "execution_count": 10,
   "id": "7f0bad2e",
   "metadata": {
    "execution": {
     "iopub.execute_input": "2023-05-19T05:16:19.680005Z",
     "iopub.status.busy": "2023-05-19T05:16:19.679220Z",
     "iopub.status.idle": "2023-05-19T05:16:22.194326Z",
     "shell.execute_reply": "2023-05-19T05:16:22.192913Z"
    },
    "papermill": {
     "duration": 2.536192,
     "end_time": "2023-05-19T05:16:22.196961",
     "exception": false,
     "start_time": "2023-05-19T05:16:19.660769",
     "status": "completed"
    },
    "tags": []
   },
   "outputs": [
    {
     "data": {
      "text/plain": [
       "[Text(0.5, 0, 'Rating with comment'),\n",
       " Text(0, 0.5, 'Rating'),\n",
       " Text(0.5, 1.0, 'Ratings distribution w/o comments')]"
      ]
     },
     "execution_count": 10,
     "metadata": {},
     "output_type": "execute_result"
    },
    {
     "data": {
      "image/png": "[encoded data removed]",
      "text/plain": [
       "<Figure size 640x480 with 1 Axes>"
      ]
     },
     "metadata": {},
     "output_type": "display_data"
    }
   ],
   "source": [
    "chart = sns.violinplot(data=reviews, x='has_comment', y='rating')\n",
    "chart.set(xlabel=\"Rating with comment\",\n",
    "       ylabel='Rating',\n",
    "       title='Ratings distribution w/o comments')"
   ]
  },
  {
   "cell_type": "code",
   "execution_count": 11,
   "id": "56259841",
   "metadata": {
    "execution": {
     "iopub.execute_input": "2023-05-19T05:16:22.232326Z",
     "iopub.status.busy": "2023-05-19T05:16:22.231906Z",
     "iopub.status.idle": "2023-05-19T05:16:22.514361Z",
     "shell.execute_reply": "2023-05-19T05:16:22.512964Z"
    },
    "papermill": {
     "duration": 0.303756,
     "end_time": "2023-05-19T05:16:22.517358",
     "exception": false,
     "start_time": "2023-05-19T05:16:22.213602",
     "status": "completed"
    },
    "tags": []
   },
   "outputs": [],
   "source": [
    "# filter missing comments\n",
    "comment_reviews = reviews.dropna()"
   ]
  },
  {
   "cell_type": "markdown",
   "id": "957d127f",
   "metadata": {
    "papermill": {
     "duration": 0.016689,
     "end_time": "2023-05-19T05:16:22.550687",
     "exception": false,
     "start_time": "2023-05-19T05:16:22.533998",
     "status": "completed"
    },
    "tags": []
   },
   "source": [
    "#To simplify our analysis, we will group together ratings into categories, \n",
    "based on the common best practice of NPS, meaning:\n",
    "1-6 = Negative, 7-8 = Neutral, 9-10 = Positive"
   ]
  },
  {
   "cell_type": "code",
   "execution_count": 12,
   "id": "13828659",
   "metadata": {
    "execution": {
     "iopub.execute_input": "2023-05-19T05:16:22.586539Z",
     "iopub.status.busy": "2023-05-19T05:16:22.586117Z",
     "iopub.status.idle": "2023-05-19T05:16:22.621627Z",
     "shell.execute_reply": "2023-05-19T05:16:22.620363Z"
    },
    "papermill": {
     "duration": 0.057097,
     "end_time": "2023-05-19T05:16:22.624902",
     "exception": false,
     "start_time": "2023-05-19T05:16:22.567805",
     "status": "completed"
    },
    "tags": []
   },
   "outputs": [
    {
     "name": "stderr",
     "output_type": "stream",
     "text": [
      "/tmp/ipykernel_21/2163595862.py:1: SettingWithCopyWarning: \n",
      "A value is trying to be set on a copy of a slice from a DataFrame.\n",
      "Try using .loc[row_indexer,col_indexer] = value instead\n",
      "\n",
      "See the caveats in the documentation: https://pandas.pydata.org/pandas-docs/stable/user_guide/indexing.html#returning-a-view-versus-a-copy\n",
      "  comment_reviews[\"NPS\"] = pd.cut(comment_reviews['rating'], [0,6,8,10], right=False, labels=[\"negative\", \"neutral\", \"positive\"])\n"
     ]
    },
    {
     "data": {
      "text/html": [
       "<div>\n",
       "<style scoped>\n",
       "    .dataframe tbody tr th:only-of-type {\n",
       "        vertical-align: middle;\n",
       "    }\n",
       "\n",
       "    .dataframe tbody tr th {\n",
       "        vertical-align: top;\n",
       "    }\n",
       "\n",
       "    .dataframe thead th {\n",
       "        text-align: right;\n",
       "    }\n",
       "</style>\n",
       "<table border=\"1\" class=\"dataframe\">\n",
       "  <thead>\n",
       "    <tr style=\"text-align: right;\">\n",
       "      <th></th>\n",
       "      <th>rating</th>\n",
       "      <th>comment</th>\n",
       "      <th>id</th>\n",
       "      <th>has_comment</th>\n",
       "      <th>NPS</th>\n",
       "    </tr>\n",
       "  </thead>\n",
       "  <tbody>\n",
       "    <tr>\n",
       "      <th>783966</th>\n",
       "      <td>5.0</td>\n",
       "      <td>Managed to get my parents and bro to play a fe...</td>\n",
       "      <td>1549</td>\n",
       "      <td>True</td>\n",
       "      <td>negative</td>\n",
       "    </tr>\n",
       "    <tr>\n",
       "      <th>559245</th>\n",
       "      <td>1.0</td>\n",
       "      <td>Board Game - Family - Roll/spinn &amp; move Played...</td>\n",
       "      <td>2136</td>\n",
       "      <td>True</td>\n",
       "      <td>negative</td>\n",
       "    </tr>\n",
       "    <tr>\n",
       "      <th>810976</th>\n",
       "      <td>5.0</td>\n",
       "      <td>boring, even for kids not too excited.</td>\n",
       "      <td>5824</td>\n",
       "      <td>True</td>\n",
       "      <td>negative</td>\n",
       "    </tr>\n",
       "    <tr>\n",
       "      <th>733987</th>\n",
       "      <td>9.0</td>\n",
       "      <td>Kickstarter 1st Edition</td>\n",
       "      <td>272533</td>\n",
       "      <td>True</td>\n",
       "      <td>positive</td>\n",
       "    </tr>\n",
       "    <tr>\n",
       "      <th>634540</th>\n",
       "      <td>8.0</td>\n",
       "      <td>Opened and discs labeled. Never played</td>\n",
       "      <td>57390</td>\n",
       "      <td>True</td>\n",
       "      <td>positive</td>\n",
       "    </tr>\n",
       "    <tr>\n",
       "      <th>74323</th>\n",
       "      <td>7.5</td>\n",
       "      <td>Light euro-style game with beautiful artwork. ...</td>\n",
       "      <td>70919</td>\n",
       "      <td>True</td>\n",
       "      <td>neutral</td>\n",
       "    </tr>\n",
       "    <tr>\n",
       "      <th>566225</th>\n",
       "      <td>7.5</td>\n",
       "      <td>Gioco bastardissimo in cui bisogna costituire ...</td>\n",
       "      <td>132372</td>\n",
       "      <td>True</td>\n",
       "      <td>neutral</td>\n",
       "    </tr>\n",
       "    <tr>\n",
       "      <th>725482</th>\n",
       "      <td>6.0</td>\n",
       "      <td>I liked the premise and the core of the game, ...</td>\n",
       "      <td>179460</td>\n",
       "      <td>True</td>\n",
       "      <td>neutral</td>\n",
       "    </tr>\n",
       "    <tr>\n",
       "      <th>222</th>\n",
       "      <td>10.0</td>\n",
       "      <td>weight: 2.89</td>\n",
       "      <td>170216</td>\n",
       "      <td>True</td>\n",
       "      <td>NaN</td>\n",
       "    </tr>\n",
       "    <tr>\n",
       "      <th>817010</th>\n",
       "      <td>7.5</td>\n",
       "      <td>There's a lot to like in this one: The supress...</td>\n",
       "      <td>41429</td>\n",
       "      <td>True</td>\n",
       "      <td>neutral</td>\n",
       "    </tr>\n",
       "  </tbody>\n",
       "</table>\n",
       "</div>"
      ],
      "text/plain": [
       "        rating                                            comment      id  \\\n",
       "783966     5.0  Managed to get my parents and bro to play a fe...    1549   \n",
       "559245     1.0  Board Game - Family - Roll/spinn & move Played...    2136   \n",
       "810976     5.0             boring, even for kids not too excited.    5824   \n",
       "733987     9.0                            Kickstarter 1st Edition  272533   \n",
       "634540     8.0             Opened and discs labeled. Never played   57390   \n",
       "74323      7.5  Light euro-style game with beautiful artwork. ...   70919   \n",
       "566225     7.5  Gioco bastardissimo in cui bisogna costituire ...  132372   \n",
       "725482     6.0  I liked the premise and the core of the game, ...  179460   \n",
       "222       10.0                                       weight: 2.89  170216   \n",
       "817010     7.5  There's a lot to like in this one: The supress...   41429   \n",
       "\n",
       "        has_comment       NPS  \n",
       "783966         True  negative  \n",
       "559245         True  negative  \n",
       "810976         True  negative  \n",
       "733987         True  positive  \n",
       "634540         True  positive  \n",
       "74323          True   neutral  \n",
       "566225         True   neutral  \n",
       "725482         True   neutral  \n",
       "222            True       NaN  \n",
       "817010         True   neutral  "
      ]
     },
     "execution_count": 12,
     "metadata": {},
     "output_type": "execute_result"
    }
   ],
   "source": [
    "comment_reviews[\"NPS\"] = pd.cut(comment_reviews['rating'], [0,6,8,10], right=False, labels=[\"negative\", \"neutral\", \"positive\"])\n",
    "comment_reviews.sample(10)"
   ]
  },
  {
   "cell_type": "markdown",
   "id": "cf31b1bc",
   "metadata": {
    "papermill": {
     "duration": 0.017504,
     "end_time": "2023-05-19T05:16:22.659866",
     "exception": false,
     "start_time": "2023-05-19T05:16:22.642362",
     "status": "completed"
    },
    "tags": []
   },
   "source": [
    "out of ~170k comments, about 10% are shorter than 20 characters.\n",
    "however, there is no clear indication that shorter comments are worthless\n",
    "some are complimentary to the rating, for example \"with expansion\"\n",
    "but some are relevant - \"Wonderful!\", \"it's funny!\""
   ]
  },
  {
   "cell_type": "code",
   "execution_count": 13,
   "id": "1e8aeb56",
   "metadata": {
    "execution": {
     "iopub.execute_input": "2023-05-19T05:16:22.696924Z",
     "iopub.status.busy": "2023-05-19T05:16:22.696523Z",
     "iopub.status.idle": "2023-05-19T05:16:22.868763Z",
     "shell.execute_reply": "2023-05-19T05:16:22.867134Z"
    },
    "papermill": {
     "duration": 0.19463,
     "end_time": "2023-05-19T05:16:22.871807",
     "exception": false,
     "start_time": "2023-05-19T05:16:22.677177",
     "status": "completed"
    },
    "tags": []
   },
   "outputs": [
    {
     "name": "stderr",
     "output_type": "stream",
     "text": [
      "/tmp/ipykernel_21/3210239252.py:1: SettingWithCopyWarning: \n",
      "A value is trying to be set on a copy of a slice from a DataFrame.\n",
      "Try using .loc[row_indexer,col_indexer] = value instead\n",
      "\n",
      "See the caveats in the documentation: https://pandas.pydata.org/pandas-docs/stable/user_guide/indexing.html#returning-a-view-versus-a-copy\n",
      "  comment_reviews['comment_length'] = comment_reviews['comment'].str.len()\n"
     ]
    },
    {
     "data": {
      "text/html": [
       "<div>\n",
       "<style scoped>\n",
       "    .dataframe tbody tr th:only-of-type {\n",
       "        vertical-align: middle;\n",
       "    }\n",
       "\n",
       "    .dataframe tbody tr th {\n",
       "        vertical-align: top;\n",
       "    }\n",
       "\n",
       "    .dataframe thead th {\n",
       "        text-align: right;\n",
       "    }\n",
       "</style>\n",
       "<table border=\"1\" class=\"dataframe\">\n",
       "  <thead>\n",
       "    <tr style=\"text-align: right;\">\n",
       "      <th></th>\n",
       "      <th>rating</th>\n",
       "      <th>comment</th>\n",
       "      <th>id</th>\n",
       "      <th>has_comment</th>\n",
       "      <th>NPS</th>\n",
       "      <th>comment_length</th>\n",
       "    </tr>\n",
       "  </thead>\n",
       "  <tbody>\n",
       "    <tr>\n",
       "      <th>21</th>\n",
       "      <td>10.0</td>\n",
       "      <td>With expansion.</td>\n",
       "      <td>36218</td>\n",
       "      <td>True</td>\n",
       "      <td>NaN</td>\n",
       "      <td>15</td>\n",
       "    </tr>\n",
       "    <tr>\n",
       "      <th>45</th>\n",
       "      <td>10.0</td>\n",
       "      <td>P</td>\n",
       "      <td>173346</td>\n",
       "      <td>True</td>\n",
       "      <td>NaN</td>\n",
       "      <td>1</td>\n",
       "    </tr>\n",
       "    <tr>\n",
       "      <th>51</th>\n",
       "      <td>10.0</td>\n",
       "      <td>Wonderful!</td>\n",
       "      <td>31260</td>\n",
       "      <td>True</td>\n",
       "      <td>NaN</td>\n",
       "      <td>10</td>\n",
       "    </tr>\n",
       "    <tr>\n",
       "      <th>78</th>\n",
       "      <td>10.0</td>\n",
       "      <td>1 no E online 6-9-07</td>\n",
       "      <td>14996</td>\n",
       "      <td>True</td>\n",
       "      <td>NaN</td>\n",
       "      <td>20</td>\n",
       "    </tr>\n",
       "    <tr>\n",
       "      <th>175</th>\n",
       "      <td>10.0</td>\n",
       "      <td>Fusm</td>\n",
       "      <td>150376</td>\n",
       "      <td>True</td>\n",
       "      <td>NaN</td>\n",
       "      <td>4</td>\n",
       "    </tr>\n",
       "    <tr>\n",
       "      <th>...</th>\n",
       "      <td>...</td>\n",
       "      <td>...</td>\n",
       "      <td>...</td>\n",
       "      <td>...</td>\n",
       "      <td>...</td>\n",
       "      <td>...</td>\n",
       "    </tr>\n",
       "    <tr>\n",
       "      <th>948169</th>\n",
       "      <td>7.1</td>\n",
       "      <td>S&amp;T25</td>\n",
       "      <td>11498</td>\n",
       "      <td>True</td>\n",
       "      <td>neutral</td>\n",
       "      <td>5</td>\n",
       "    </tr>\n",
       "    <tr>\n",
       "      <th>948227</th>\n",
       "      <td>5.0</td>\n",
       "      <td>2 - 6 players</td>\n",
       "      <td>33789</td>\n",
       "      <td>True</td>\n",
       "      <td>negative</td>\n",
       "      <td>13</td>\n",
       "    </tr>\n",
       "    <tr>\n",
       "      <th>948228</th>\n",
       "      <td>4.0</td>\n",
       "      <td>It's Monopoly.</td>\n",
       "      <td>33789</td>\n",
       "      <td>True</td>\n",
       "      <td>negative</td>\n",
       "      <td>16</td>\n",
       "    </tr>\n",
       "    <tr>\n",
       "      <th>948235</th>\n",
       "      <td>5.0</td>\n",
       "      <td>Oh its mad alright.</td>\n",
       "      <td>9250</td>\n",
       "      <td>True</td>\n",
       "      <td>negative</td>\n",
       "      <td>19</td>\n",
       "    </tr>\n",
       "    <tr>\n",
       "      <th>948282</th>\n",
       "      <td>7.0</td>\n",
       "      <td>Sold</td>\n",
       "      <td>298442</td>\n",
       "      <td>True</td>\n",
       "      <td>neutral</td>\n",
       "      <td>4</td>\n",
       "    </tr>\n",
       "  </tbody>\n",
       "</table>\n",
       "<p>21079 rows × 6 columns</p>\n",
       "</div>"
      ],
      "text/plain": [
       "        rating               comment      id  has_comment       NPS  \\\n",
       "21        10.0       With expansion.   36218         True       NaN   \n",
       "45        10.0                     P  173346         True       NaN   \n",
       "51        10.0            Wonderful!   31260         True       NaN   \n",
       "78        10.0  1 no E online 6-9-07   14996         True       NaN   \n",
       "175       10.0                  Fusm  150376         True       NaN   \n",
       "...        ...                   ...     ...          ...       ...   \n",
       "948169     7.1                 S&T25   11498         True   neutral   \n",
       "948227     5.0         2 - 6 players   33789         True  negative   \n",
       "948228     4.0      It's Monopoly.     33789         True  negative   \n",
       "948235     5.0   Oh its mad alright.    9250         True  negative   \n",
       "948282     7.0                  Sold  298442         True   neutral   \n",
       "\n",
       "        comment_length  \n",
       "21                  15  \n",
       "45                   1  \n",
       "51                  10  \n",
       "78                  20  \n",
       "175                  4  \n",
       "...                ...  \n",
       "948169               5  \n",
       "948227              13  \n",
       "948228              16  \n",
       "948235              19  \n",
       "948282               4  \n",
       "\n",
       "[21079 rows x 6 columns]"
      ]
     },
     "execution_count": 13,
     "metadata": {},
     "output_type": "execute_result"
    }
   ],
   "source": [
    "comment_reviews['comment_length'] = comment_reviews['comment'].str.len()\n",
    "comment_reviews[comment_reviews['comment_length']<=20]"
   ]
  },
  {
   "cell_type": "markdown",
   "id": "3fa9e273",
   "metadata": {
    "papermill": {
     "duration": 0.017896,
     "end_time": "2023-05-19T05:16:22.907336",
     "exception": false,
     "start_time": "2023-05-19T05:16:22.889440",
     "status": "completed"
    },
    "tags": []
   },
   "source": [
    "By looking at the comment length at various resolutions, we can see that:\n",
    "1. long commments are common for each of the rating category, meaning that\n",
    "a longer comment doesnt necessary mean that the game is either good or bad\n",
    "2. comments in general have similar lengths across the rating categories, \n",
    "with a median value of ~110 characters"
   ]
  },
  {
   "cell_type": "code",
   "execution_count": 14,
   "id": "f2344f0f",
   "metadata": {
    "execution": {
     "iopub.execute_input": "2023-05-19T05:16:22.945009Z",
     "iopub.status.busy": "2023-05-19T05:16:22.944585Z",
     "iopub.status.idle": "2023-05-19T05:16:24.078152Z",
     "shell.execute_reply": "2023-05-19T05:16:24.076950Z"
    },
    "papermill": {
     "duration": 1.155908,
     "end_time": "2023-05-19T05:16:24.081184",
     "exception": false,
     "start_time": "2023-05-19T05:16:22.925276",
     "status": "completed"
    },
    "tags": []
   },
   "outputs": [
    {
     "data": {
      "text/plain": [
       "[Text(0.5, 0, 'NPS category'),\n",
       " Text(0, 0.5, 'Comment Length'),\n",
       " Text(0.5, 1.0, 'Comment length distribution by category (short comment)')]"
      ]
     },
     "execution_count": 14,
     "metadata": {},
     "output_type": "execute_result"
    },
    {
     "data": {
      "image/png": "[encoded data removed]",
      "text/plain": [
       "<Figure size 1200x300 with 2 Axes>"
      ]
     },
     "metadata": {},
     "output_type": "display_data"
    }
   ],
   "source": [
    "fig, axs = plt.subplots(1, 2, figsize=(12, 3))\n",
    "short_reviews = comment_reviews[comment_reviews['comment_length']<2000]\n",
    "chart_1 = sns.violinplot(data=comment_reviews, x='NPS', y='comment_length', ax=axs[0])\n",
    "chart_1.set(xlabel=\"NPS category\",\n",
    "       ylabel='Comment Length',\n",
    "       title='Comment length distribution by category')\n",
    "chart_2 = sns.boxplot(data=short_reviews, x='NPS', y='comment_length', ax=axs[1])\n",
    "chart_2.set(xlabel=\"NPS category\",\n",
    "       ylabel='Comment Length',\n",
    "       title='Comment length distribution by category (short comment)')"
   ]
  },
  {
   "cell_type": "code",
   "execution_count": 15,
   "id": "8e36002a",
   "metadata": {
    "execution": {
     "iopub.execute_input": "2023-05-19T05:16:24.122431Z",
     "iopub.status.busy": "2023-05-19T05:16:24.121740Z",
     "iopub.status.idle": "2023-05-19T05:16:24.138718Z",
     "shell.execute_reply": "2023-05-19T05:16:24.137827Z"
    },
    "papermill": {
     "duration": 0.040837,
     "end_time": "2023-05-19T05:16:24.141191",
     "exception": false,
     "start_time": "2023-05-19T05:16:24.100354",
     "status": "completed"
    },
    "tags": []
   },
   "outputs": [
    {
     "data": {
      "text/plain": [
       "count    168340.000000\n",
       "mean        211.007586\n",
       "std         343.695795\n",
       "min           1.000000\n",
       "25%          47.000000\n",
       "50%         115.000000\n",
       "75%         245.000000\n",
       "max       15765.000000\n",
       "Name: comment_length, dtype: float64"
      ]
     },
     "execution_count": 15,
     "metadata": {},
     "output_type": "execute_result"
    }
   ],
   "source": [
    "comment_reviews['comment_length'].describe()"
   ]
  },
  {
   "cell_type": "code",
   "execution_count": 16,
   "id": "f1db58f0",
   "metadata": {
    "execution": {
     "iopub.execute_input": "2023-05-19T05:16:24.180861Z",
     "iopub.status.busy": "2023-05-19T05:16:24.180414Z",
     "iopub.status.idle": "2023-05-19T05:16:24.189726Z",
     "shell.execute_reply": "2023-05-19T05:16:24.188447Z"
    },
    "papermill": {
     "duration": 0.032616,
     "end_time": "2023-05-19T05:16:24.192389",
     "exception": false,
     "start_time": "2023-05-19T05:16:24.159773",
     "status": "completed"
    },
    "tags": []
   },
   "outputs": [
    {
     "data": {
      "text/plain": [
       "'Really great game! I enjoy this game a lot. I guess you get to be a bird grower. You play bird cards in 4 different regions (using food to play them). Hatch eggs, draw new cards. The deck is thick thick fat fat! 170 bird cards in the base game and every bird is different.   What I liked:  - Great meeples, cards, dice, and player mats - The theme is very good and I loved the Bird House - Birds on the cards are really neat, and I kinda feel like I learn something about birds - The automa for solo '"
      ]
     },
     "execution_count": 16,
     "metadata": {},
     "output_type": "execute_result"
    }
   ],
   "source": [
    "# example of a long comment, which combines a review of the game and a personal opinion\n",
    "comment_reviews.loc[comment_reviews['comment_length']>2000,\"comment\"].head(1).values[0][:500]"
   ]
  },
  {
   "cell_type": "markdown",
   "id": "765eaea6",
   "metadata": {
    "papermill": {
     "duration": 0.018397,
     "end_time": "2023-05-19T05:16:24.229427",
     "exception": false,
     "start_time": "2023-05-19T05:16:24.211030",
     "status": "completed"
    },
    "tags": []
   },
   "source": [
    "There is no obvious correlation between the length of the comment and the rating itself.\n",
    "A value close to 0 means no correlation."
   ]
  },
  {
   "cell_type": "code",
   "execution_count": 17,
   "id": "7bf703eb",
   "metadata": {
    "execution": {
     "iopub.execute_input": "2023-05-19T05:16:24.268450Z",
     "iopub.status.busy": "2023-05-19T05:16:24.268006Z",
     "iopub.status.idle": "2023-05-19T05:16:24.285135Z",
     "shell.execute_reply": "2023-05-19T05:16:24.283734Z"
    },
    "papermill": {
     "duration": 0.040074,
     "end_time": "2023-05-19T05:16:24.288029",
     "exception": false,
     "start_time": "2023-05-19T05:16:24.247955",
     "status": "completed"
    },
    "tags": []
   },
   "outputs": [
    {
     "data": {
      "text/plain": [
       "-0.005546041551782487"
      ]
     },
     "execution_count": 17,
     "metadata": {},
     "output_type": "execute_result"
    }
   ],
   "source": [
    "comment_reviews[['rating', 'comment_length']].corr().loc['comment_length', 'rating']"
   ]
  },
  {
   "cell_type": "markdown",
   "id": "4f9169a5",
   "metadata": {
    "papermill": {
     "duration": 0.018546,
     "end_time": "2023-05-19T05:16:24.325496",
     "exception": false,
     "start_time": "2023-05-19T05:16:24.306950",
     "status": "completed"
    },
    "tags": []
   },
   "source": [
    "## Data cleaning"
   ]
  },
  {
   "cell_type": "code",
   "execution_count": 18,
   "id": "4459b765",
   "metadata": {
    "execution": {
     "iopub.execute_input": "2023-05-19T05:16:24.366463Z",
     "iopub.status.busy": "2023-05-19T05:16:24.365830Z",
     "iopub.status.idle": "2023-05-19T05:16:36.085375Z",
     "shell.execute_reply": "2023-05-19T05:16:36.084360Z"
    },
    "papermill": {
     "duration": 11.742896,
     "end_time": "2023-05-19T05:16:36.088246",
     "exception": false,
     "start_time": "2023-05-19T05:16:24.345350",
     "status": "completed"
    },
    "tags": []
   },
   "outputs": [
    {
     "name": "stderr",
     "output_type": "stream",
     "text": [
      "Warning : `load_model` does not return WordVectorModel or SupervisedModel any more, but a `FastText` object which is very similar.\n",
      "/tmp/ipykernel_21/2639938929.py:2: SettingWithCopyWarning: \n",
      "A value is trying to be set on a copy of a slice from a DataFrame.\n",
      "Try using .loc[row_indexer,col_indexer] = value instead\n",
      "\n",
      "See the caveats in the documentation: https://pandas.pydata.org/pandas-docs/stable/user_guide/indexing.html#returning-a-view-versus-a-copy\n",
      "  comment_reviews['lang'] = comment_reviews['comment'].apply(lambda x: detect(text=x, low_memory=True).get('lang'))\n"
     ]
    }
   ],
   "source": [
    "# remove comments that are not in english, there are only ~700 of them in our data\n",
    "comment_reviews['lang'] = comment_reviews['comment'].apply(lambda x: detect(text=x, low_memory=True).get('lang'))\n",
    "comment_reviews = comment_reviews[comment_reviews['lang']==\"en\"]\n",
    "\n",
    "# keep only a small sample size to facilitate our analysis\n",
    "sample_reviews = comment_reviews.drop(columns=['lang']).sample(SAMPLE_SIZE)"
   ]
  },
  {
   "cell_type": "markdown",
   "id": "e082072c",
   "metadata": {
    "papermill": {
     "duration": 0.018783,
     "end_time": "2023-05-19T05:16:36.126883",
     "exception": false,
     "start_time": "2023-05-19T05:16:36.108100",
     "status": "completed"
    },
    "tags": []
   },
   "source": [
    "As mentioned previously, we remove names from the text to improve accuracy.\n",
    "unfortunately, there is no easy way of adding the game names to Nltk's NER, so we remove all NNP words in the sentences (all names)\n",
    "it is an acceptable loss since names don't convey emotion, which is our goal in this analysis."
   ]
  },
  {
   "cell_type": "code",
   "execution_count": 19,
   "id": "78554a11",
   "metadata": {
    "execution": {
     "iopub.execute_input": "2023-05-19T05:16:36.168161Z",
     "iopub.status.busy": "2023-05-19T05:16:36.166995Z",
     "iopub.status.idle": "2023-05-19T05:17:10.302793Z",
     "shell.execute_reply": "2023-05-19T05:17:10.301315Z"
    },
    "papermill": {
     "duration": 34.178493,
     "end_time": "2023-05-19T05:17:10.325018",
     "exception": false,
     "start_time": "2023-05-19T05:16:36.146525",
     "status": "completed"
    },
    "tags": []
   },
   "outputs": [
    {
     "data": {
      "text/html": [
       "<div>\n",
       "<style scoped>\n",
       "    .dataframe tbody tr th:only-of-type {\n",
       "        vertical-align: middle;\n",
       "    }\n",
       "\n",
       "    .dataframe tbody tr th {\n",
       "        vertical-align: top;\n",
       "    }\n",
       "\n",
       "    .dataframe thead th {\n",
       "        text-align: right;\n",
       "    }\n",
       "</style>\n",
       "<table border=\"1\" class=\"dataframe\">\n",
       "  <thead>\n",
       "    <tr style=\"text-align: right;\">\n",
       "      <th></th>\n",
       "      <th>comment</th>\n",
       "      <th>clean_text</th>\n",
       "    </tr>\n",
       "  </thead>\n",
       "  <tbody>\n",
       "    <tr>\n",
       "      <th>580191</th>\n",
       "      <td>Rating: 2/5 Production value: 2/4 Is the game ...</td>\n",
       "      <td>Rating : 2/5 value : 2/4 Is the game in my col...</td>\n",
       "    </tr>\n",
       "    <tr>\n",
       "      <th>789412</th>\n",
       "      <td>Several copies--old Avalon Hill, Later Avalon ...</td>\n",
       "      <td>Several copies -- old , , 3M , and recent ( 20...</td>\n",
       "    </tr>\n",
       "    <tr>\n",
       "      <th>93976</th>\n",
       "      <td>Such a fun game.   Just an overall good time i...</td>\n",
       "      <td>Such a fun game . an overall good time if you ...</td>\n",
       "    </tr>\n",
       "    <tr>\n",
       "      <th>940664</th>\n",
       "      <td>Waste of $</td>\n",
       "      <td>Waste of $</td>\n",
       "    </tr>\n",
       "    <tr>\n",
       "      <th>597516</th>\n",
       "      <td>Rules are not well-communicated. Cards are not...</td>\n",
       "      <td>Rules are not well-communicated . Cards are no...</td>\n",
       "    </tr>\n",
       "  </tbody>\n",
       "</table>\n",
       "</div>"
      ],
      "text/plain": [
       "                                                  comment  \\\n",
       "580191  Rating: 2/5 Production value: 2/4 Is the game ...   \n",
       "789412  Several copies--old Avalon Hill, Later Avalon ...   \n",
       "93976   Such a fun game.   Just an overall good time i...   \n",
       "940664                                         Waste of $   \n",
       "597516  Rules are not well-communicated. Cards are not...   \n",
       "\n",
       "                                               clean_text  \n",
       "580191  Rating : 2/5 value : 2/4 Is the game in my col...  \n",
       "789412  Several copies -- old , , 3M , and recent ( 20...  \n",
       "93976   Such a fun game . an overall good time if you ...  \n",
       "940664                                         Waste of $  \n",
       "597516  Rules are not well-communicated . Cards are no...  "
      ]
     },
     "execution_count": 19,
     "metadata": {},
     "output_type": "execute_result"
    }
   ],
   "source": [
    "sample_reviews['clean_text'] = sample_reviews['comment'].apply(lambda x: word_cleaning_pipeline(x))\n",
    "sample_reviews[['comment', 'clean_text']].sample(5)"
   ]
  },
  {
   "cell_type": "markdown",
   "id": "fed5ddde",
   "metadata": {
    "papermill": {
     "duration": 0.020639,
     "end_time": "2023-05-19T05:17:10.365300",
     "exception": false,
     "start_time": "2023-05-19T05:17:10.344661",
     "status": "completed"
    },
    "tags": []
   },
   "source": [
    "## Sentiment analysis"
   ]
  },
  {
   "cell_type": "markdown",
   "id": "cea1b841",
   "metadata": {
    "papermill": {
     "duration": 0.019706,
     "end_time": "2023-05-19T05:17:10.404880",
     "exception": false,
     "start_time": "2023-05-19T05:17:10.385174",
     "status": "completed"
    },
    "tags": []
   },
   "source": [
    "Here we calculate the sentiment intensity for each comment, and extract the compound score.\n",
    "A compound score >0 means that the overall sentiment is postivie, while a compound score < 0 means an overall negative setiment.\n",
    "A value of 0 means a neutral sentiment.\n",
    "We would also use the scores for each one of the emotions (\"positive\", \"neutral\", \"negative\") later on."
   ]
  },
  {
   "cell_type": "code",
   "execution_count": 20,
   "id": "a9989fc7",
   "metadata": {
    "execution": {
     "iopub.execute_input": "2023-05-19T05:17:10.445748Z",
     "iopub.status.busy": "2023-05-19T05:17:10.445330Z",
     "iopub.status.idle": "2023-05-19T05:17:20.773720Z",
     "shell.execute_reply": "2023-05-19T05:17:20.772636Z"
    },
    "papermill": {
     "duration": 10.35284,
     "end_time": "2023-05-19T05:17:20.776669",
     "exception": false,
     "start_time": "2023-05-19T05:17:10.423829",
     "status": "completed"
    },
    "tags": []
   },
   "outputs": [
    {
     "data": {
      "text/html": [
       "<div>\n",
       "<style scoped>\n",
       "    .dataframe tbody tr th:only-of-type {\n",
       "        vertical-align: middle;\n",
       "    }\n",
       "\n",
       "    .dataframe tbody tr th {\n",
       "        vertical-align: top;\n",
       "    }\n",
       "\n",
       "    .dataframe thead th {\n",
       "        text-align: right;\n",
       "    }\n",
       "</style>\n",
       "<table border=\"1\" class=\"dataframe\">\n",
       "  <thead>\n",
       "    <tr style=\"text-align: right;\">\n",
       "      <th></th>\n",
       "      <th>rating</th>\n",
       "      <th>comment</th>\n",
       "      <th>id</th>\n",
       "      <th>has_comment</th>\n",
       "      <th>NPS</th>\n",
       "      <th>comment_length</th>\n",
       "      <th>clean_text</th>\n",
       "      <th>neg</th>\n",
       "      <th>neu</th>\n",
       "      <th>pos</th>\n",
       "      <th>compound</th>\n",
       "      <th>sentiment</th>\n",
       "    </tr>\n",
       "  </thead>\n",
       "  <tbody>\n",
       "    <tr>\n",
       "      <th>88175</th>\n",
       "      <td>8.5</td>\n",
       "      <td>Love the game play but not a great game for my...</td>\n",
       "      <td>120677</td>\n",
       "      <td>True</td>\n",
       "      <td>positive</td>\n",
       "      <td>69</td>\n",
       "      <td>Love the game play but not a great game for my...</td>\n",
       "      <td>0.380</td>\n",
       "      <td>0.403</td>\n",
       "      <td>0.217</td>\n",
       "      <td>-0.6418</td>\n",
       "      <td>negative</td>\n",
       "    </tr>\n",
       "    <tr>\n",
       "      <th>864450</th>\n",
       "      <td>5.5</td>\n",
       "      <td>Beautiful looking game, but a but too lite for...</td>\n",
       "      <td>225214</td>\n",
       "      <td>True</td>\n",
       "      <td>negative</td>\n",
       "      <td>50</td>\n",
       "      <td>looking game , but a but too lite for me .</td>\n",
       "      <td>0.000</td>\n",
       "      <td>1.000</td>\n",
       "      <td>0.000</td>\n",
       "      <td>0.0000</td>\n",
       "      <td>neutral</td>\n",
       "    </tr>\n",
       "    <tr>\n",
       "      <th>178597</th>\n",
       "      <td>6.0</td>\n",
       "      <td>Also have Dixit Odyssey &amp; Dixit Journey</td>\n",
       "      <td>39856</td>\n",
       "      <td>True</td>\n",
       "      <td>neutral</td>\n",
       "      <td>39</td>\n",
       "      <td>Also have &amp;</td>\n",
       "      <td>0.000</td>\n",
       "      <td>1.000</td>\n",
       "      <td>0.000</td>\n",
       "      <td>0.0000</td>\n",
       "      <td>neutral</td>\n",
       "    </tr>\n",
       "    <tr>\n",
       "      <th>509038</th>\n",
       "      <td>8.5</td>\n",
       "      <td>K</td>\n",
       "      <td>174660</td>\n",
       "      <td>True</td>\n",
       "      <td>positive</td>\n",
       "      <td>1</td>\n",
       "      <td></td>\n",
       "      <td>0.000</td>\n",
       "      <td>0.000</td>\n",
       "      <td>0.000</td>\n",
       "      <td>0.0000</td>\n",
       "      <td>neutral</td>\n",
       "    </tr>\n",
       "    <tr>\n",
       "      <th>357320</th>\n",
       "      <td>6.0</td>\n",
       "      <td>2013-12-24 :I don't get why people call this a...</td>\n",
       "      <td>483</td>\n",
       "      <td>True</td>\n",
       "      <td>neutral</td>\n",
       "      <td>431</td>\n",
       "      <td>2013-12-24 : I do n't get why people call this...</td>\n",
       "      <td>0.085</td>\n",
       "      <td>0.748</td>\n",
       "      <td>0.167</td>\n",
       "      <td>0.6296</td>\n",
       "      <td>positive</td>\n",
       "    </tr>\n",
       "    <tr>\n",
       "      <th>245189</th>\n",
       "      <td>8.0</td>\n",
       "      <td>Birmingham Expo 2010 My wife wanted this one, ...</td>\n",
       "      <td>12</td>\n",
       "      <td>True</td>\n",
       "      <td>positive</td>\n",
       "      <td>196</td>\n",
       "      <td>2010 wife wanted this one , although not the b...</td>\n",
       "      <td>0.082</td>\n",
       "      <td>0.563</td>\n",
       "      <td>0.355</td>\n",
       "      <td>0.8788</td>\n",
       "      <td>positive</td>\n",
       "    </tr>\n",
       "    <tr>\n",
       "      <th>900953</th>\n",
       "      <td>6.0</td>\n",
       "      <td>3+, in the attic</td>\n",
       "      <td>14076</td>\n",
       "      <td>True</td>\n",
       "      <td>neutral</td>\n",
       "      <td>16</td>\n",
       "      <td>3+ , in the attic</td>\n",
       "      <td>0.000</td>\n",
       "      <td>1.000</td>\n",
       "      <td>0.000</td>\n",
       "      <td>0.0000</td>\n",
       "      <td>neutral</td>\n",
       "    </tr>\n",
       "    <tr>\n",
       "      <th>47548</th>\n",
       "      <td>10.0</td>\n",
       "      <td>Awesome game, a lot of strategy</td>\n",
       "      <td>167791</td>\n",
       "      <td>True</td>\n",
       "      <td>NaN</td>\n",
       "      <td>31</td>\n",
       "      <td>Awesome game , a lot of strategy</td>\n",
       "      <td>0.000</td>\n",
       "      <td>0.494</td>\n",
       "      <td>0.506</td>\n",
       "      <td>0.6249</td>\n",
       "      <td>positive</td>\n",
       "    </tr>\n",
       "    <tr>\n",
       "      <th>946678</th>\n",
       "      <td>6.0</td>\n",
       "      <td>Looks easy</td>\n",
       "      <td>246345</td>\n",
       "      <td>True</td>\n",
       "      <td>neutral</td>\n",
       "      <td>10</td>\n",
       "      <td>easy</td>\n",
       "      <td>0.000</td>\n",
       "      <td>0.000</td>\n",
       "      <td>1.000</td>\n",
       "      <td>0.4404</td>\n",
       "      <td>positive</td>\n",
       "    </tr>\n",
       "    <tr>\n",
       "      <th>905872</th>\n",
       "      <td>7.0</td>\n",
       "      <td>Rating for kids</td>\n",
       "      <td>16149</td>\n",
       "      <td>True</td>\n",
       "      <td>neutral</td>\n",
       "      <td>15</td>\n",
       "      <td>Rating for kids</td>\n",
       "      <td>0.000</td>\n",
       "      <td>1.000</td>\n",
       "      <td>0.000</td>\n",
       "      <td>0.0000</td>\n",
       "      <td>neutral</td>\n",
       "    </tr>\n",
       "  </tbody>\n",
       "</table>\n",
       "</div>"
      ],
      "text/plain": [
       "        rating                                            comment      id  \\\n",
       "88175      8.5  Love the game play but not a great game for my...  120677   \n",
       "864450     5.5  Beautiful looking game, but a but too lite for...  225214   \n",
       "178597     6.0            Also have Dixit Odyssey & Dixit Journey   39856   \n",
       "509038     8.5                                                  K  174660   \n",
       "357320     6.0  2013-12-24 :I don't get why people call this a...     483   \n",
       "245189     8.0  Birmingham Expo 2010 My wife wanted this one, ...      12   \n",
       "900953     6.0                                   3+, in the attic   14076   \n",
       "47548     10.0                    Awesome game, a lot of strategy  167791   \n",
       "946678     6.0                                         Looks easy  246345   \n",
       "905872     7.0                                    Rating for kids   16149   \n",
       "\n",
       "        has_comment       NPS  comment_length  \\\n",
       "88175          True  positive              69   \n",
       "864450         True  negative              50   \n",
       "178597         True   neutral              39   \n",
       "509038         True  positive               1   \n",
       "357320         True   neutral             431   \n",
       "245189         True  positive             196   \n",
       "900953         True   neutral              16   \n",
       "47548          True       NaN              31   \n",
       "946678         True   neutral              10   \n",
       "905872         True   neutral              15   \n",
       "\n",
       "                                               clean_text    neg    neu  \\\n",
       "88175   Love the game play but not a great game for my...  0.380  0.403   \n",
       "864450         looking game , but a but too lite for me .  0.000  1.000   \n",
       "178597                                        Also have &  0.000  1.000   \n",
       "509038                                                     0.000  0.000   \n",
       "357320  2013-12-24 : I do n't get why people call this...  0.085  0.748   \n",
       "245189  2010 wife wanted this one , although not the b...  0.082  0.563   \n",
       "900953                                  3+ , in the attic  0.000  1.000   \n",
       "47548                    Awesome game , a lot of strategy  0.000  0.494   \n",
       "946678                                               easy  0.000  0.000   \n",
       "905872                                    Rating for kids  0.000  1.000   \n",
       "\n",
       "          pos  compound sentiment  \n",
       "88175   0.217   -0.6418  negative  \n",
       "864450  0.000    0.0000   neutral  \n",
       "178597  0.000    0.0000   neutral  \n",
       "509038  0.000    0.0000   neutral  \n",
       "357320  0.167    0.6296  positive  \n",
       "245189  0.355    0.8788  positive  \n",
       "900953  0.000    0.0000   neutral  \n",
       "47548   0.506    0.6249  positive  \n",
       "946678  1.000    0.4404  positive  \n",
       "905872  0.000    0.0000   neutral  "
      ]
     },
     "execution_count": 20,
     "metadata": {},
     "output_type": "execute_result"
    }
   ],
   "source": [
    "sample_reviews['polarity'] = sample_reviews['clean_text'].apply(lambda review: sid.polarity_scores(review))\n",
    "sample_reviews = pd.concat([sample_reviews.drop(columns=['polarity']), sample_reviews['polarity'].apply(pd.Series)], axis=1)\n",
    "sample_reviews[\"sentiment\"] = pd.cut(sample_reviews['compound'], [-1,-0.1,0.1,1], right=False, labels=[\"negative\", \"neutral\", \"positive\"])\n",
    "sample_reviews.sample(10)"
   ]
  },
  {
   "cell_type": "markdown",
   "id": "3ed4b6f7",
   "metadata": {
    "papermill": {
     "duration": 0.01922,
     "end_time": "2023-05-19T05:17:20.816138",
     "exception": false,
     "start_time": "2023-05-19T05:17:20.796918",
     "status": "completed"
    },
    "tags": []
   },
   "source": [
    "we can see that in general, comments are relativly positive. Even on low ratings, the comments are rather nutral.\n",
    "In a perfect setting, we would have expected the \"negative\" category to have an average compound score of less than 0."
   ]
  },
  {
   "cell_type": "code",
   "execution_count": 21,
   "id": "5e28861d",
   "metadata": {
    "execution": {
     "iopub.execute_input": "2023-05-19T05:17:20.857744Z",
     "iopub.status.busy": "2023-05-19T05:17:20.857000Z",
     "iopub.status.idle": "2023-05-19T05:17:21.351899Z",
     "shell.execute_reply": "2023-05-19T05:17:21.350263Z"
    },
    "papermill": {
     "duration": 0.519411,
     "end_time": "2023-05-19T05:17:21.355038",
     "exception": false,
     "start_time": "2023-05-19T05:17:20.835627",
     "status": "completed"
    },
    "tags": []
   },
   "outputs": [
    {
     "data": {
      "text/plain": [
       "[Text(0.5, 0, 'NPS category'),\n",
       " Text(0, 0.5, 'Sentiment Score'),\n",
       " Text(0.5, 1.0, 'Sentiment Score by NPS category')]"
      ]
     },
     "execution_count": 21,
     "metadata": {},
     "output_type": "execute_result"
    },
    {
     "data": {
      "image/png": "[encoded data removed]",
      "text/plain": [
       "<Figure size 640x480 with 1 Axes>"
      ]
     },
     "metadata": {},
     "output_type": "display_data"
    }
   ],
   "source": [
    "chart = sns.barplot(data=sample_reviews, x='NPS', y='compound')\n",
    "chart.set(xlabel=\"NPS category\",\n",
    "       ylabel='Sentiment Score',\n",
    "       title='Sentiment Score by NPS category')"
   ]
  },
  {
   "cell_type": "markdown",
   "id": "91977354",
   "metadata": {
    "papermill": {
     "duration": 0.01995,
     "end_time": "2023-05-19T05:17:21.395692",
     "exception": false,
     "start_time": "2023-05-19T05:17:21.375742",
     "status": "completed"
    },
    "tags": []
   },
   "source": [
    "When looking at the score breakdown for each emotion separetly, we can see that the emotions scores matches the expected trend based on the \n",
    "review's rating.\n",
    "Meaning that the positive score goes up as the rating is more positive\n",
    "and vice versa for the negative score."
   ]
  },
  {
   "cell_type": "code",
   "execution_count": 22,
   "id": "f375bff1",
   "metadata": {
    "execution": {
     "iopub.execute_input": "2023-05-19T05:17:21.438810Z",
     "iopub.status.busy": "2023-05-19T05:17:21.438349Z",
     "iopub.status.idle": "2023-05-19T05:17:22.617944Z",
     "shell.execute_reply": "2023-05-19T05:17:22.616962Z"
    },
    "papermill": {
     "duration": 1.204948,
     "end_time": "2023-05-19T05:17:22.620939",
     "exception": false,
     "start_time": "2023-05-19T05:17:21.415991",
     "status": "completed"
    },
    "tags": []
   },
   "outputs": [
    {
     "data": {
      "image/png": "[encoded data removed]",
      "text/plain": [
       "<Figure size 1200x300 with 3 Axes>"
      ]
     },
     "metadata": {},
     "output_type": "display_data"
    }
   ],
   "source": [
    "\n",
    "fig, axs = plt.subplots(1, 3, figsize=(12, 3))\n",
    "sns.barplot(data=sample_reviews, x='NPS', y='pos', ax=axs[0])\n",
    "sns.barplot(data=sample_reviews, x='NPS', y='neu', ax=axs[1])\n",
    "sns.barplot(data=sample_reviews, x='NPS', y='neg', ax=axs[2])\n",
    "axs[0].set_title('Positive')\n",
    "axs[1].set_title('Neutral')\n",
    "axs[2].set_title('Negative')\n",
    "plt.tight_layout()\n",
    "plt.show()"
   ]
  },
  {
   "cell_type": "markdown",
   "id": "b46dd902",
   "metadata": {
    "papermill": {
     "duration": 0.020889,
     "end_time": "2023-05-19T05:17:22.663359",
     "exception": false,
     "start_time": "2023-05-19T05:17:22.642470",
     "status": "completed"
    },
    "tags": []
   },
   "source": [
    "In conclusion, \n",
    "while the sentiment analysis does provide some insights into the directionality of the rating, it is far from being a tool that single handedly can explain the rating.\n",
    "The compound score only has a corrolation of ~24% with the rating"
   ]
  },
  {
   "cell_type": "code",
   "execution_count": 23,
   "id": "e7ea81ab",
   "metadata": {
    "execution": {
     "iopub.execute_input": "2023-05-19T05:17:22.708732Z",
     "iopub.status.busy": "2023-05-19T05:17:22.708281Z",
     "iopub.status.idle": "2023-05-19T05:17:22.721307Z",
     "shell.execute_reply": "2023-05-19T05:17:22.720190Z"
    },
    "papermill": {
     "duration": 0.038191,
     "end_time": "2023-05-19T05:17:22.723909",
     "exception": false,
     "start_time": "2023-05-19T05:17:22.685718",
     "status": "completed"
    },
    "tags": []
   },
   "outputs": [
    {
     "data": {
      "text/html": [
       "<div>\n",
       "<style scoped>\n",
       "    .dataframe tbody tr th:only-of-type {\n",
       "        vertical-align: middle;\n",
       "    }\n",
       "\n",
       "    .dataframe tbody tr th {\n",
       "        vertical-align: top;\n",
       "    }\n",
       "\n",
       "    .dataframe thead th {\n",
       "        text-align: right;\n",
       "    }\n",
       "</style>\n",
       "<table border=\"1\" class=\"dataframe\">\n",
       "  <thead>\n",
       "    <tr style=\"text-align: right;\">\n",
       "      <th></th>\n",
       "      <th>rating</th>\n",
       "      <th>compound</th>\n",
       "    </tr>\n",
       "  </thead>\n",
       "  <tbody>\n",
       "    <tr>\n",
       "      <th>rating</th>\n",
       "      <td>1.000000</td>\n",
       "      <td>0.250275</td>\n",
       "    </tr>\n",
       "    <tr>\n",
       "      <th>compound</th>\n",
       "      <td>0.250275</td>\n",
       "      <td>1.000000</td>\n",
       "    </tr>\n",
       "  </tbody>\n",
       "</table>\n",
       "</div>"
      ],
      "text/plain": [
       "            rating  compound\n",
       "rating    1.000000  0.250275\n",
       "compound  0.250275  1.000000"
      ]
     },
     "execution_count": 23,
     "metadata": {},
     "output_type": "execute_result"
    }
   ],
   "source": [
    "sample_reviews[['rating', 'compound']].corr()"
   ]
  },
  {
   "cell_type": "markdown",
   "id": "1b3f3a73",
   "metadata": {
    "papermill": {
     "duration": 0.021277,
     "end_time": "2023-05-19T05:17:22.766969",
     "exception": false,
     "start_time": "2023-05-19T05:17:22.745692",
     "status": "completed"
    },
    "tags": []
   },
   "source": [
    "## Bonus section - word cloud\n",
    "we take all the words from our sample of comments to create a word cloud.\n",
    "For improved results, we remove stop words (like: \"is\", \"a\", \"and\"), and punctuations from the text.\n",
    "This processing is done using spacy."
   ]
  },
  {
   "cell_type": "code",
   "execution_count": 24,
   "id": "e52c22ea",
   "metadata": {
    "execution": {
     "iopub.execute_input": "2023-05-19T05:17:22.812085Z",
     "iopub.status.busy": "2023-05-19T05:17:22.811631Z",
     "iopub.status.idle": "2023-05-19T05:17:41.398244Z",
     "shell.execute_reply": "2023-05-19T05:17:41.396586Z"
    },
    "papermill": {
     "duration": 18.612646,
     "end_time": "2023-05-19T05:17:41.401484",
     "exception": false,
     "start_time": "2023-05-19T05:17:22.788838",
     "status": "completed"
    },
    "tags": []
   },
   "outputs": [],
   "source": [
    "import spacy\n",
    "nlp = spacy.load('en_core_web_sm')"
   ]
  },
  {
   "cell_type": "code",
   "execution_count": 25,
   "id": "79cd9929",
   "metadata": {
    "execution": {
     "iopub.execute_input": "2023-05-19T05:17:41.447197Z",
     "iopub.status.busy": "2023-05-19T05:17:41.445980Z",
     "iopub.status.idle": "2023-05-19T05:17:41.452995Z",
     "shell.execute_reply": "2023-05-19T05:17:41.451620Z"
    },
    "papermill": {
     "duration": 0.03287,
     "end_time": "2023-05-19T05:17:41.455641",
     "exception": false,
     "start_time": "2023-05-19T05:17:41.422771",
     "status": "completed"
    },
    "tags": []
   },
   "outputs": [],
   "source": [
    "def spacy_analysis(comment):\n",
    "    main_sentence = []\n",
    "    for word in nlp(comment):\n",
    "        if (not word.is_stop) and (not word.is_punct):\n",
    "            main_sentence.append(word.lemma_.strip().lower())\n",
    "    return ' '.join(main_sentence)"
   ]
  },
  {
   "cell_type": "code",
   "execution_count": 26,
   "id": "bccd59f3",
   "metadata": {
    "execution": {
     "iopub.execute_input": "2023-05-19T05:17:41.501404Z",
     "iopub.status.busy": "2023-05-19T05:17:41.500676Z",
     "iopub.status.idle": "2023-05-19T05:17:57.026216Z",
     "shell.execute_reply": "2023-05-19T05:17:57.024209Z"
    },
    "papermill": {
     "duration": 15.551598,
     "end_time": "2023-05-19T05:17:57.029739",
     "exception": false,
     "start_time": "2023-05-19T05:17:41.478141",
     "status": "completed"
    },
    "tags": []
   },
   "outputs": [],
   "source": [
    "wordcount_sample = sample_reviews.sample(1000)\n",
    "wordcount_sample['nlp_text'] = wordcount_sample['comment'].apply(lambda x: spacy_analysis(x))"
   ]
  },
  {
   "cell_type": "markdown",
   "id": "414525a5",
   "metadata": {
    "papermill": {
     "duration": 0.020717,
     "end_time": "2023-05-19T05:17:57.073857",
     "exception": false,
     "start_time": "2023-05-19T05:17:57.053140",
     "status": "completed"
    },
    "tags": []
   },
   "source": [
    "We can see that the main words are related to the game, \n",
    "such as \"game\", \"theme\" and \"card\"\n",
    "but also positive descriptions such as \"good\", \"great\", \"fun\"\n",
    "overall, it makes a board game enthusiastic like me happy seeing these results"
   ]
  },
  {
   "cell_type": "code",
   "execution_count": 27,
   "id": "eaabb098",
   "metadata": {
    "execution": {
     "iopub.execute_input": "2023-05-19T05:17:57.118284Z",
     "iopub.status.busy": "2023-05-19T05:17:57.117697Z",
     "iopub.status.idle": "2023-05-19T05:17:58.451599Z",
     "shell.execute_reply": "2023-05-19T05:17:58.443410Z"
    },
    "papermill": {
     "duration": 1.36096,
     "end_time": "2023-05-19T05:17:58.455842",
     "exception": false,
     "start_time": "2023-05-19T05:17:57.094882",
     "status": "completed"
    },
    "tags": []
   },
   "outputs": [
    {
     "data": {
      "text/plain": [
       "(-0.5, 399.5, 199.5, -0.5)"
      ]
     },
     "execution_count": 27,
     "metadata": {},
     "output_type": "execute_result"
    },
    {
     "data": {
      "image/png": "[encoded data removed]",
      "text/plain": [
       "<Figure size 640x480 with 1 Axes>"
      ]
     },
     "metadata": {},
     "output_type": "display_data"
    }
   ],
   "source": [
    "from wordcloud import WordCloud\n",
    "text = ' '.join(wordcount_sample['nlp_text'].tolist())\n",
    "wc = WordCloud(background_color=\"white\", repeat=True)\n",
    "wc.generate(text)\n",
    "plt.figure()\n",
    "plt.imshow(wc, interpolation=\"bilinear\")\n",
    "plt.axis(\"off\")"
   ]
  }
 ],
 "metadata": {
  "kernelspec": {
   "display_name": "Python 3",
   "language": "python",
   "name": "python3"
  },
  "language_info": {
   "codemirror_mode": {
    "name": "ipython",
    "version": 3
   },
   "file_extension": ".py",
   "mimetype": "text/x-python",
   "name": "python",
   "nbconvert_exporter": "python",
   "pygments_lexer": "ipython3",
   "version": "3.10.10"
  },
  "papermill": {
   "default_parameters": {},
   "duration": 182.044821,
   "end_time": "2023-05-19T05:18:01.766314",
   "environment_variables": {},
   "exception": null,
   "input_path": "__notebook__.ipynb",
   "output_path": "__notebook__.ipynb",
   "parameters": {},
   "start_time": "2023-05-19T05:14:59.721493",
   "version": "2.4.0"
  }
 },
 "nbformat": 4,
 "nbformat_minor": 5
}
