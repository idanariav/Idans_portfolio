{
 "cells": [
  {
   "cell_type": "markdown",
   "id": "7880a116",
   "metadata": {
    "papermill": {
     "duration": 0.009223,
     "end_time": "2023-03-27T05:48:51.983894",
     "exception": false,
     "start_time": "2023-03-27T05:48:51.974671",
     "status": "completed"
    },
    "tags": []
   },
   "source": [
    "# BOARD GAME RECOMMENDER PROJECT\n",
    "\n",
    "This is an example project for a basic recommender system.\n",
    "It is based on a kaggle dataset scraped from Board Game Geek (like IMDB but for board games).The dataset contains both games metadata and more than 19M users rating and reviews.\n",
    "\n",
    "The recommender is based on rating corralation, meaning that the recommendations are based on user behavior rather than the game's attributes, although I added the option to filter the recommendations based on common traits such as game category or complexity. \n",
    "\n",
    "So for example, if you like'd Settlers of Catan, the model checks which other games were also highly rated by those who loved Settlers of Catan.\n",
    "\n",
    "The projects process contains:\n",
    "1. Import and organization of data\n",
    "2. EDA (exploratory data analysis)\n",
    "3. Model creation and output"
   ]
  },
  {
   "cell_type": "markdown",
   "id": "00bbfee3",
   "metadata": {
    "papermill": {
     "duration": 0.00761,
     "end_time": "2023-03-27T05:48:51.999633",
     "exception": false,
     "start_time": "2023-03-27T05:48:51.992023",
     "status": "completed"
    },
    "tags": []
   },
   "source": [
    "## Project set up"
   ]
  },
  {
   "cell_type": "markdown",
   "id": "07e4edbe",
   "metadata": {
    "papermill": {
     "duration": 0.008528,
     "end_time": "2023-03-27T05:48:52.016168",
     "exception": false,
     "start_time": "2023-03-27T05:48:52.007640",
     "status": "completed"
    },
    "tags": []
   },
   "source": [
    "### Dataset explanation"
   ]
  },
  {
   "cell_type": "markdown",
   "id": "daa1934f",
   "metadata": {
    "papermill": {
     "duration": 0.008114,
     "end_time": "2023-03-27T05:48:52.032274",
     "exception": false,
     "start_time": "2023-03-27T05:48:52.024160",
     "status": "completed"
    },
    "tags": []
   },
   "source": [
    "#### Metadata table\n",
    "The metadata table we are going to use is the games info table,\n",
    "which has the following columns:\n",
    "\n",
    "id - the game id (across all datasets)\n",
    "\n",
    "primary - game name\n",
    "\n",
    "**General information columns:**\n",
    "\n",
    "yearpublished, playingtime\n",
    "averageweight - how complex is the game (1-5)\n",
    "min/max players - what is the min/max players this game is suited to\n",
    "\n",
    "**Tag columns:**\n",
    "\n",
    "boardgamemechanic, boardgamefamily, boardgamedesigner, boardgamepublisher,\n",
    "boardgamecategory\n",
    "\n",
    "**Ranking related columns**\n",
    "\n",
    "Board Game Rank - aggregated ranking based on BBG's methodology\n",
    "average - average rating by users\n",
    "usersrated - how many users rated this game\n",
    "numcomments - how many comments this game has recieved\n",
    "\n",
    "#### Reviews table\n",
    "from this table we only take 3 relevant columns:\n",
    "\n",
    "id - game id\n",
    "\n",
    "user - user id\n",
    "\n",
    "rating - the user's rating of the game (1-10)\n"
   ]
  },
  {
   "cell_type": "markdown",
   "id": "5dc33050",
   "metadata": {
    "papermill": {
     "duration": 0.007718,
     "end_time": "2023-03-27T05:48:52.048634",
     "exception": false,
     "start_time": "2023-03-27T05:48:52.040916",
     "status": "completed"
    },
    "tags": []
   },
   "source": [
    "### Imports"
   ]
  },
  {
   "cell_type": "code",
   "execution_count": 1,
   "id": "42ec3ad6",
   "metadata": {
    "_cell_guid": "b1076dfc-b9ad-4769-8c92-a6c4dae69d19",
    "_uuid": "8f2839f25d086af736a60e9eeb907d3b93b6e0e5",
    "execution": {
     "iopub.execute_input": "2023-03-27T05:48:52.067512Z",
     "iopub.status.busy": "2023-03-27T05:48:52.066510Z",
     "iopub.status.idle": "2023-03-27T05:48:53.482893Z",
     "shell.execute_reply": "2023-03-27T05:48:53.481324Z"
    },
    "papermill": {
     "duration": 1.430461,
     "end_time": "2023-03-27T05:48:53.487094",
     "exception": false,
     "start_time": "2023-03-27T05:48:52.056633",
     "status": "completed"
    },
    "tags": []
   },
   "outputs": [],
   "source": [
    "import random\n",
    "import numpy as np \n",
    "import pandas as pd \n",
    "import os\n",
    "from basic_utils import INPUT_FOLDER, dfCleaner\n",
    "import seaborn as sns\n",
    "from sklearn.preprocessing import LabelEncoder\n",
    "import scipy.stats as stats\n",
    "from matplotlib.ticker import PercentFormatter"
   ]
  },
  {
   "cell_type": "markdown",
   "id": "0de27014",
   "metadata": {
    "papermill": {
     "duration": 0.007789,
     "end_time": "2023-03-27T05:48:53.503626",
     "exception": false,
     "start_time": "2023-03-27T05:48:53.495837",
     "status": "completed"
    },
    "tags": []
   },
   "source": [
    "### Constants"
   ]
  },
  {
   "cell_type": "code",
   "execution_count": 2,
   "id": "c5d8a642",
   "metadata": {
    "execution": {
     "iopub.execute_input": "2023-03-27T05:48:53.523091Z",
     "iopub.status.busy": "2023-03-27T05:48:53.522706Z",
     "iopub.status.idle": "2023-03-27T05:48:53.531344Z",
     "shell.execute_reply": "2023-03-27T05:48:53.530053Z"
    },
    "papermill": {
     "duration": 0.021141,
     "end_time": "2023-03-27T05:48:53.533892",
     "exception": false,
     "start_time": "2023-03-27T05:48:53.512751",
     "status": "completed"
    },
    "tags": []
   },
   "outputs": [],
   "source": [
    "DATA_PATH = os.path.join(INPUT_FOLDER, \"boardgamegeek-reviews\")\n",
    "GAME_INFO_COLS = ['id','primary','yearpublished','minplayers','maxplayers',\n",
    "                  'playingtime','boardgamecategory','boardgamemechanic',\n",
    "                  'boardgamefamily','boardgamedesigner','boardgamepublisher',\n",
    "                  'usersrated','average','Board Game Rank','numcomments',\n",
    "                  'averageweight']\n",
    "RATING_COLS = ['user','rating','ID']\n",
    "random.seed(4321)\n",
    "label_encoder = LabelEncoder()\n",
    "df_cleaner = dfCleaner()\n",
    "RANDOM_SAMPLE_SIZE = 0.2\n",
    "TOP_GAMES = 1000\n",
    "CORRELATION_THRESHOLD = 0.3\n",
    "OUTLIERS_Z_SCORE = 3\n",
    "custom_params = {\"axes.spines.right\": False, \"axes.spines.top\": False}\n",
    "sns.set_theme(style=\"ticks\", rc=custom_params)"
   ]
  },
  {
   "cell_type": "code",
   "execution_count": 3,
   "id": "4899748e",
   "metadata": {
    "execution": {
     "iopub.execute_input": "2023-03-27T05:48:53.552511Z",
     "iopub.status.busy": "2023-03-27T05:48:53.551573Z",
     "iopub.status.idle": "2023-03-27T05:48:53.558097Z",
     "shell.execute_reply": "2023-03-27T05:48:53.557127Z"
    },
    "papermill": {
     "duration": 0.018887,
     "end_time": "2023-03-27T05:48:53.560717",
     "exception": false,
     "start_time": "2023-03-27T05:48:53.541830",
     "status": "completed"
    },
    "tags": []
   },
   "outputs": [],
   "source": [
    "# if you wish to filter the recommended games by a certain category\n",
    "# or game attribute, you can modifiy it here.\n",
    "# similarly, you can choose which game you would want to base\n",
    "# your recommendations on.\n",
    "CATEGORY_FILTER = {\n",
    "    \"boardgamecategory\": None,\n",
    "    \"boardgamepublisher\": None,\n",
    "    \"boardgamemechanic\": None\n",
    "}\n",
    "NUMERIC_FILTER = {\n",
    "    \"playingtime\": None,\n",
    "    \"average\": {\"measure\": \"above\", \"threshold\": 7},\n",
    "    \"averageweight\": None\n",
    "}\n",
    "EXAMPLE_GAME = 183840"
   ]
  },
  {
   "cell_type": "markdown",
   "id": "decc20cc",
   "metadata": {
    "papermill": {
     "duration": 0.008119,
     "end_time": "2023-03-27T05:48:53.576734",
     "exception": false,
     "start_time": "2023-03-27T05:48:53.568615",
     "status": "completed"
    },
    "tags": []
   },
   "source": [
    "## Data cleaning"
   ]
  },
  {
   "cell_type": "code",
   "execution_count": 4,
   "id": "16b718a8",
   "metadata": {
    "execution": {
     "iopub.execute_input": "2023-03-27T05:48:53.595468Z",
     "iopub.status.busy": "2023-03-27T05:48:53.594590Z",
     "iopub.status.idle": "2023-03-27T05:48:55.483504Z",
     "shell.execute_reply": "2023-03-27T05:48:55.482149Z"
    },
    "papermill": {
     "duration": 1.902164,
     "end_time": "2023-03-27T05:48:55.487153",
     "exception": false,
     "start_time": "2023-03-27T05:48:53.584989",
     "status": "completed"
    },
    "tags": []
   },
   "outputs": [
    {
     "name": "stderr",
     "output_type": "stream",
     "text": [
      "/opt/conda/lib/python3.7/site-packages/IPython/core/interactiveshell.py:3553: DtypeWarning: Columns (29) have mixed types.Specify dtype option on import or set low_memory=False.\n",
      "  exec(code_obj, self.user_global_ns, self.user_ns)\n"
     ]
    },
    {
     "data": {
      "text/html": [
       "<div>\n",
       "<style scoped>\n",
       "    .dataframe tbody tr th:only-of-type {\n",
       "        vertical-align: middle;\n",
       "    }\n",
       "\n",
       "    .dataframe tbody tr th {\n",
       "        vertical-align: top;\n",
       "    }\n",
       "\n",
       "    .dataframe thead th {\n",
       "        text-align: right;\n",
       "    }\n",
       "</style>\n",
       "<table border=\"1\" class=\"dataframe\">\n",
       "  <thead>\n",
       "    <tr style=\"text-align: right;\">\n",
       "      <th></th>\n",
       "      <th>id</th>\n",
       "      <th>primary</th>\n",
       "      <th>yearpublished</th>\n",
       "      <th>minplayers</th>\n",
       "      <th>maxplayers</th>\n",
       "      <th>playingtime</th>\n",
       "      <th>boardgamecategory</th>\n",
       "      <th>boardgamemechanic</th>\n",
       "      <th>boardgamefamily</th>\n",
       "      <th>boardgamedesigner</th>\n",
       "      <th>boardgamepublisher</th>\n",
       "      <th>usersrated</th>\n",
       "      <th>average</th>\n",
       "      <th>Board Game Rank</th>\n",
       "      <th>numcomments</th>\n",
       "      <th>averageweight</th>\n",
       "    </tr>\n",
       "  </thead>\n",
       "  <tbody>\n",
       "    <tr>\n",
       "      <th>0</th>\n",
       "      <td>30549</td>\n",
       "      <td>Pandemic</td>\n",
       "      <td>2008</td>\n",
       "      <td>2</td>\n",
       "      <td>4</td>\n",
       "      <td>45</td>\n",
       "      <td>['Medical']</td>\n",
       "      <td>['Action Points', 'Cooperative Game', 'Hand Ma...</td>\n",
       "      <td>['Components: Map (Global Scale)', 'Components...</td>\n",
       "      <td>['Matt Leacock']</td>\n",
       "      <td>['Z-Man Games', 'Albi', 'Asmodee', 'Asmodee It...</td>\n",
       "      <td>109006</td>\n",
       "      <td>7.58896</td>\n",
       "      <td>106</td>\n",
       "      <td>17305</td>\n",
       "      <td>2.4063</td>\n",
       "    </tr>\n",
       "    <tr>\n",
       "      <th>1</th>\n",
       "      <td>822</td>\n",
       "      <td>Carcassonne</td>\n",
       "      <td>2000</td>\n",
       "      <td>2</td>\n",
       "      <td>5</td>\n",
       "      <td>45</td>\n",
       "      <td>['City Building', 'Medieval', 'Territory Build...</td>\n",
       "      <td>['Area Majority / Influence', 'Map Addition', ...</td>\n",
       "      <td>['Cities: Carcassonne (France)', 'Components: ...</td>\n",
       "      <td>['Klaus-Jürgen Wrede']</td>\n",
       "      <td>['Hans im Glück', '999 Games', 'Albi', 'Bard C...</td>\n",
       "      <td>108776</td>\n",
       "      <td>7.41837</td>\n",
       "      <td>191</td>\n",
       "      <td>19263</td>\n",
       "      <td>1.9057</td>\n",
       "    </tr>\n",
       "  </tbody>\n",
       "</table>\n",
       "</div>"
      ],
      "text/plain": [
       "      id      primary  yearpublished  minplayers  maxplayers  playingtime  \\\n",
       "0  30549     Pandemic           2008           2           4           45   \n",
       "1    822  Carcassonne           2000           2           5           45   \n",
       "\n",
       "                                   boardgamecategory  \\\n",
       "0                                        ['Medical']   \n",
       "1  ['City Building', 'Medieval', 'Territory Build...   \n",
       "\n",
       "                                   boardgamemechanic  \\\n",
       "0  ['Action Points', 'Cooperative Game', 'Hand Ma...   \n",
       "1  ['Area Majority / Influence', 'Map Addition', ...   \n",
       "\n",
       "                                     boardgamefamily       boardgamedesigner  \\\n",
       "0  ['Components: Map (Global Scale)', 'Components...        ['Matt Leacock']   \n",
       "1  ['Cities: Carcassonne (France)', 'Components: ...  ['Klaus-Jürgen Wrede']   \n",
       "\n",
       "                                  boardgamepublisher  usersrated  average  \\\n",
       "0  ['Z-Man Games', 'Albi', 'Asmodee', 'Asmodee It...      109006  7.58896   \n",
       "1  ['Hans im Glück', '999 Games', 'Albi', 'Bard C...      108776  7.41837   \n",
       "\n",
       "  Board Game Rank  numcomments  averageweight  \n",
       "0             106        17305         2.4063  \n",
       "1             191        19263         1.9057  "
      ]
     },
     "execution_count": 4,
     "metadata": {},
     "output_type": "execute_result"
    }
   ],
   "source": [
    "games_info = pd.read_csv(os.path.join(DATA_PATH, \"games_detailed_info.csv\"), \n",
    "                         usecols=GAME_INFO_COLS)\n",
    "games_info.head(2)"
   ]
  },
  {
   "cell_type": "code",
   "execution_count": 5,
   "id": "08c261cb",
   "metadata": {
    "execution": {
     "iopub.execute_input": "2023-03-27T05:48:55.507348Z",
     "iopub.status.busy": "2023-03-27T05:48:55.506393Z",
     "iopub.status.idle": "2023-03-27T05:48:55.569507Z",
     "shell.execute_reply": "2023-03-27T05:48:55.568051Z"
    },
    "papermill": {
     "duration": 0.076338,
     "end_time": "2023-03-27T05:48:55.572405",
     "exception": false,
     "start_time": "2023-03-27T05:48:55.496067",
     "status": "completed"
    },
    "tags": []
   },
   "outputs": [
    {
     "data": {
      "text/html": [
       "<div>\n",
       "<style scoped>\n",
       "    .dataframe tbody tr th:only-of-type {\n",
       "        vertical-align: middle;\n",
       "    }\n",
       "\n",
       "    .dataframe tbody tr th {\n",
       "        vertical-align: top;\n",
       "    }\n",
       "\n",
       "    .dataframe thead th {\n",
       "        text-align: right;\n",
       "    }\n",
       "</style>\n",
       "<table border=\"1\" class=\"dataframe\">\n",
       "  <thead>\n",
       "    <tr style=\"text-align: right;\">\n",
       "      <th></th>\n",
       "      <th>id</th>\n",
       "      <th>yearpublished</th>\n",
       "      <th>minplayers</th>\n",
       "      <th>maxplayers</th>\n",
       "      <th>playingtime</th>\n",
       "      <th>usersrated</th>\n",
       "      <th>average</th>\n",
       "      <th>numcomments</th>\n",
       "      <th>averageweight</th>\n",
       "    </tr>\n",
       "  </thead>\n",
       "  <tbody>\n",
       "    <tr>\n",
       "      <th>count</th>\n",
       "      <td>21631.000000</td>\n",
       "      <td>21631.000000</td>\n",
       "      <td>21631.000000</td>\n",
       "      <td>21631.000000</td>\n",
       "      <td>21631.000000</td>\n",
       "      <td>21631.000000</td>\n",
       "      <td>21631.000000</td>\n",
       "      <td>21631.000000</td>\n",
       "      <td>21631.000000</td>\n",
       "    </tr>\n",
       "    <tr>\n",
       "      <th>mean</th>\n",
       "      <td>118133.093847</td>\n",
       "      <td>1986.094910</td>\n",
       "      <td>2.007027</td>\n",
       "      <td>5.709491</td>\n",
       "      <td>90.509177</td>\n",
       "      <td>875.000693</td>\n",
       "      <td>6.417127</td>\n",
       "      <td>213.221811</td>\n",
       "      <td>1.978830</td>\n",
       "    </tr>\n",
       "    <tr>\n",
       "      <th>std</th>\n",
       "      <td>105310.419253</td>\n",
       "      <td>210.042496</td>\n",
       "      <td>0.688957</td>\n",
       "      <td>15.102385</td>\n",
       "      <td>534.826511</td>\n",
       "      <td>3697.681390</td>\n",
       "      <td>0.929178</td>\n",
       "      <td>674.130830</td>\n",
       "      <td>0.848984</td>\n",
       "    </tr>\n",
       "    <tr>\n",
       "      <th>min</th>\n",
       "      <td>1.000000</td>\n",
       "      <td>-3500.000000</td>\n",
       "      <td>0.000000</td>\n",
       "      <td>0.000000</td>\n",
       "      <td>0.000000</td>\n",
       "      <td>29.000000</td>\n",
       "      <td>1.041330</td>\n",
       "      <td>1.000000</td>\n",
       "      <td>0.000000</td>\n",
       "    </tr>\n",
       "    <tr>\n",
       "      <th>25%</th>\n",
       "      <td>12280.500000</td>\n",
       "      <td>2001.000000</td>\n",
       "      <td>2.000000</td>\n",
       "      <td>4.000000</td>\n",
       "      <td>25.000000</td>\n",
       "      <td>57.000000</td>\n",
       "      <td>5.832710</td>\n",
       "      <td>24.000000</td>\n",
       "      <td>1.333300</td>\n",
       "    </tr>\n",
       "    <tr>\n",
       "      <th>50%</th>\n",
       "      <td>105187.000000</td>\n",
       "      <td>2011.000000</td>\n",
       "      <td>2.000000</td>\n",
       "      <td>4.000000</td>\n",
       "      <td>45.000000</td>\n",
       "      <td>124.000000</td>\n",
       "      <td>6.446360</td>\n",
       "      <td>51.000000</td>\n",
       "      <td>1.952400</td>\n",
       "    </tr>\n",
       "    <tr>\n",
       "      <th>75%</th>\n",
       "      <td>207013.000000</td>\n",
       "      <td>2017.000000</td>\n",
       "      <td>2.000000</td>\n",
       "      <td>6.000000</td>\n",
       "      <td>90.000000</td>\n",
       "      <td>397.000000</td>\n",
       "      <td>7.039515</td>\n",
       "      <td>138.000000</td>\n",
       "      <td>2.520000</td>\n",
       "    </tr>\n",
       "    <tr>\n",
       "      <th>max</th>\n",
       "      <td>350992.000000</td>\n",
       "      <td>2023.000000</td>\n",
       "      <td>10.000000</td>\n",
       "      <td>999.000000</td>\n",
       "      <td>60000.000000</td>\n",
       "      <td>109006.000000</td>\n",
       "      <td>9.568290</td>\n",
       "      <td>19402.000000</td>\n",
       "      <td>5.000000</td>\n",
       "    </tr>\n",
       "  </tbody>\n",
       "</table>\n",
       "</div>"
      ],
      "text/plain": [
       "                  id  yearpublished    minplayers    maxplayers   playingtime  \\\n",
       "count   21631.000000   21631.000000  21631.000000  21631.000000  21631.000000   \n",
       "mean   118133.093847    1986.094910      2.007027      5.709491     90.509177   \n",
       "std    105310.419253     210.042496      0.688957     15.102385    534.826511   \n",
       "min         1.000000   -3500.000000      0.000000      0.000000      0.000000   \n",
       "25%     12280.500000    2001.000000      2.000000      4.000000     25.000000   \n",
       "50%    105187.000000    2011.000000      2.000000      4.000000     45.000000   \n",
       "75%    207013.000000    2017.000000      2.000000      6.000000     90.000000   \n",
       "max    350992.000000    2023.000000     10.000000    999.000000  60000.000000   \n",
       "\n",
       "          usersrated       average   numcomments  averageweight  \n",
       "count   21631.000000  21631.000000  21631.000000   21631.000000  \n",
       "mean      875.000693      6.417127    213.221811       1.978830  \n",
       "std      3697.681390      0.929178    674.130830       0.848984  \n",
       "min        29.000000      1.041330      1.000000       0.000000  \n",
       "25%        57.000000      5.832710     24.000000       1.333300  \n",
       "50%       124.000000      6.446360     51.000000       1.952400  \n",
       "75%       397.000000      7.039515    138.000000       2.520000  \n",
       "max    109006.000000      9.568290  19402.000000       5.000000  "
      ]
     },
     "execution_count": 5,
     "metadata": {},
     "output_type": "execute_result"
    }
   ],
   "source": [
    "# this dataset contains information about 20K games\n",
    "# we can see that some columns have outlier results such as playing time of 1000 hours,\n",
    "# 0 min players, or 999 max players.\n",
    "# however, the ranking columns seems fine.\n",
    "games_info.describe()"
   ]
  },
  {
   "cell_type": "markdown",
   "id": "835743e2",
   "metadata": {
    "papermill": {
     "duration": 0.008481,
     "end_time": "2023-03-27T05:48:55.589640",
     "exception": false,
     "start_time": "2023-03-27T05:48:55.581159",
     "status": "completed"
    },
    "tags": []
   },
   "source": [
    "for the outliers, we would replace all results that have a z-score of 3 or higher, meaning the results are less than 0.1% of the total distribution assuming a normal distribution.\n",
    "\n",
    "some columns require a more specific cleaning, such as the \"minplayers\"\n",
    "that shouldn't contain 0, or the board game rank that is categorized as object since it has string values of \"not ranked\". we replace those with NAN instead.\n",
    "\n",
    "post cleaning, we can see that data contains only null for the non-numeric sections such as designer, mechanic, etc..."
   ]
  },
  {
   "cell_type": "code",
   "execution_count": 6,
   "id": "de3773d1",
   "metadata": {
    "execution": {
     "iopub.execute_input": "2023-03-27T05:48:55.609899Z",
     "iopub.status.busy": "2023-03-27T05:48:55.608589Z",
     "iopub.status.idle": "2023-03-27T05:48:55.669782Z",
     "shell.execute_reply": "2023-03-27T05:48:55.668424Z"
    },
    "papermill": {
     "duration": 0.074592,
     "end_time": "2023-03-27T05:48:55.672886",
     "exception": false,
     "start_time": "2023-03-27T05:48:55.598294",
     "status": "completed"
    },
    "tags": []
   },
   "outputs": [
    {
     "name": "stdout",
     "output_type": "stream",
     "text": [
      "<class 'pandas.core.frame.DataFrame'>\n",
      "RangeIndex: 21631 entries, 0 to 21630\n",
      "Data columns (total 16 columns):\n",
      " #   Column              Non-Null Count  Dtype  \n",
      "---  ------              --------------  -----  \n",
      " 0   id                  21631 non-null  int32  \n",
      " 1   primary             21631 non-null  object \n",
      " 2   yearpublished       21631 non-null  int16  \n",
      " 3   minplayers          21587 non-null  float32\n",
      " 4   maxplayers          21442 non-null  float32\n",
      " 5   playingtime         21565 non-null  float32\n",
      " 6   boardgamecategory   21348 non-null  object \n",
      " 7   boardgamemechanic   20041 non-null  object \n",
      " 8   boardgamefamily     17870 non-null  object \n",
      " 9   boardgamedesigner   21035 non-null  object \n",
      " 10  boardgamepublisher  21630 non-null  object \n",
      " 11  usersrated          21631 non-null  int32  \n",
      " 12  average             21631 non-null  float32\n",
      " 13  Board Game Rank     21626 non-null  float32\n",
      " 14  numcomments         21631 non-null  int16  \n",
      " 15  averageweight       21631 non-null  float32\n",
      "dtypes: float32(6), int16(2), int32(2), object(6)\n",
      "memory usage: 1.7+ MB\n"
     ]
    }
   ],
   "source": [
    "df_cleaner.outlier_replace_with_nan(df_to_clean=games_info, columns_to_clean=['playingtime','maxplayers'],z_score=OUTLIERS_Z_SCORE)\n",
    "games_info.loc[games_info['minplayers']==0, 'minplayers'] = np.NaN\n",
    "games_info['Board Game Rank'] = pd.to_numeric(games_info['Board Game Rank'], errors='coerce')\n",
    "\n",
    "# this code optimizes column types to improve memory usage and speed of calculations\n",
    "# this would reduce memory in 35%\n",
    "df_cleaner.column_optimizer(df_to_optimize=games_info)\n",
    "\n",
    "games_info.info()"
   ]
  },
  {
   "cell_type": "code",
   "execution_count": 7,
   "id": "d3022452",
   "metadata": {
    "execution": {
     "iopub.execute_input": "2023-03-27T05:48:55.693010Z",
     "iopub.status.busy": "2023-03-27T05:48:55.692040Z",
     "iopub.status.idle": "2023-03-27T05:49:33.454555Z",
     "shell.execute_reply": "2023-03-27T05:49:33.451015Z"
    },
    "papermill": {
     "duration": 37.783878,
     "end_time": "2023-03-27T05:49:33.465732",
     "exception": false,
     "start_time": "2023-03-27T05:48:55.681854",
     "status": "completed"
    },
    "tags": []
   },
   "outputs": [
    {
     "data": {
      "text/html": [
       "<div>\n",
       "<style scoped>\n",
       "    .dataframe tbody tr th:only-of-type {\n",
       "        vertical-align: middle;\n",
       "    }\n",
       "\n",
       "    .dataframe tbody tr th {\n",
       "        vertical-align: top;\n",
       "    }\n",
       "\n",
       "    .dataframe thead th {\n",
       "        text-align: right;\n",
       "    }\n",
       "</style>\n",
       "<table border=\"1\" class=\"dataframe\">\n",
       "  <thead>\n",
       "    <tr style=\"text-align: right;\">\n",
       "      <th></th>\n",
       "      <th>user</th>\n",
       "      <th>rating</th>\n",
       "      <th>id</th>\n",
       "    </tr>\n",
       "  </thead>\n",
       "  <tbody>\n",
       "    <tr>\n",
       "      <th>0</th>\n",
       "      <td>avlawn</td>\n",
       "      <td>10.0</td>\n",
       "      <td>30549</td>\n",
       "    </tr>\n",
       "    <tr>\n",
       "      <th>1</th>\n",
       "      <td>Mike Mayer</td>\n",
       "      <td>10.0</td>\n",
       "      <td>30549</td>\n",
       "    </tr>\n",
       "  </tbody>\n",
       "</table>\n",
       "</div>"
      ],
      "text/plain": [
       "         user  rating     id\n",
       "0      avlawn    10.0  30549\n",
       "1  Mike Mayer    10.0  30549"
      ]
     },
     "execution_count": 7,
     "metadata": {},
     "output_type": "execute_result"
    }
   ],
   "source": [
    "# for the sake of speed, we read a random 20% of the rows, which are ~4M rows\n",
    "reviews = pd.read_csv(os.path.join(DATA_PATH, \"bgg-19m-reviews.csv\"), \n",
    "                      usecols=RATING_COLS, skiprows=lambda x: x > 0 and random.random() >=RANDOM_SAMPLE_SIZE)\n",
    "df_cleaner.column_name_cleaner(df_to_clean=reviews)\n",
    "reviews.head(2)"
   ]
  },
  {
   "cell_type": "markdown",
   "id": "96ce9921",
   "metadata": {
    "papermill": {
     "duration": 0.008731,
     "end_time": "2023-03-27T05:49:33.485214",
     "exception": false,
     "start_time": "2023-03-27T05:49:33.476483",
     "status": "completed"
    },
    "tags": []
   },
   "source": [
    "the rating column seems to make sense, all results fall between 1-10 with a reasonable distribution"
   ]
  },
  {
   "cell_type": "code",
   "execution_count": 8,
   "id": "883eb2dd",
   "metadata": {
    "execution": {
     "iopub.execute_input": "2023-03-27T05:49:33.505500Z",
     "iopub.status.busy": "2023-03-27T05:49:33.505028Z",
     "iopub.status.idle": "2023-03-27T05:49:33.826754Z",
     "shell.execute_reply": "2023-03-27T05:49:33.825256Z"
    },
    "papermill": {
     "duration": 0.335482,
     "end_time": "2023-03-27T05:49:33.829957",
     "exception": false,
     "start_time": "2023-03-27T05:49:33.494475",
     "status": "completed"
    },
    "tags": []
   },
   "outputs": [
    {
     "data": {
      "text/html": [
       "<div>\n",
       "<style scoped>\n",
       "    .dataframe tbody tr th:only-of-type {\n",
       "        vertical-align: middle;\n",
       "    }\n",
       "\n",
       "    .dataframe tbody tr th {\n",
       "        vertical-align: top;\n",
       "    }\n",
       "\n",
       "    .dataframe thead th {\n",
       "        text-align: right;\n",
       "    }\n",
       "</style>\n",
       "<table border=\"1\" class=\"dataframe\">\n",
       "  <thead>\n",
       "    <tr style=\"text-align: right;\">\n",
       "      <th></th>\n",
       "      <th>rating</th>\n",
       "      <th>id</th>\n",
       "    </tr>\n",
       "  </thead>\n",
       "  <tbody>\n",
       "    <tr>\n",
       "      <th>count</th>\n",
       "      <td>3.791455e+06</td>\n",
       "      <td>3.791455e+06</td>\n",
       "    </tr>\n",
       "    <tr>\n",
       "      <th>mean</th>\n",
       "      <td>7.082014e+00</td>\n",
       "      <td>1.101161e+05</td>\n",
       "    </tr>\n",
       "    <tr>\n",
       "      <th>std</th>\n",
       "      <td>1.595863e+00</td>\n",
       "      <td>9.309324e+04</td>\n",
       "    </tr>\n",
       "    <tr>\n",
       "      <th>min</th>\n",
       "      <td>1.000000e-30</td>\n",
       "      <td>1.000000e+00</td>\n",
       "    </tr>\n",
       "    <tr>\n",
       "      <th>25%</th>\n",
       "      <td>6.000000e+00</td>\n",
       "      <td>1.598700e+04</td>\n",
       "    </tr>\n",
       "    <tr>\n",
       "      <th>50%</th>\n",
       "      <td>7.000000e+00</td>\n",
       "      <td>1.075290e+05</td>\n",
       "    </tr>\n",
       "    <tr>\n",
       "      <th>75%</th>\n",
       "      <td>8.000000e+00</td>\n",
       "      <td>1.813040e+05</td>\n",
       "    </tr>\n",
       "    <tr>\n",
       "      <th>max</th>\n",
       "      <td>1.000000e+01</td>\n",
       "      <td>3.509920e+05</td>\n",
       "    </tr>\n",
       "  </tbody>\n",
       "</table>\n",
       "</div>"
      ],
      "text/plain": [
       "             rating            id\n",
       "count  3.791455e+06  3.791455e+06\n",
       "mean   7.082014e+00  1.101161e+05\n",
       "std    1.595863e+00  9.309324e+04\n",
       "min    1.000000e-30  1.000000e+00\n",
       "25%    6.000000e+00  1.598700e+04\n",
       "50%    7.000000e+00  1.075290e+05\n",
       "75%    8.000000e+00  1.813040e+05\n",
       "max    1.000000e+01  3.509920e+05"
      ]
     },
     "execution_count": 8,
     "metadata": {},
     "output_type": "execute_result"
    }
   ],
   "source": [
    "reviews.describe()"
   ]
  },
  {
   "cell_type": "markdown",
   "id": "f4bbc761",
   "metadata": {
    "papermill": {
     "duration": 0.009167,
     "end_time": "2023-03-27T05:49:33.848921",
     "exception": false,
     "start_time": "2023-03-27T05:49:33.839754",
     "status": "completed"
    },
    "tags": []
   },
   "source": [
    "there is no reason to keep user names as string, so we convert them to unique IDS.\n",
    "Additionaly, the dataset contain reviews for games that don't appear in our games_info table, therefore we remove them"
   ]
  },
  {
   "cell_type": "code",
   "execution_count": 9,
   "id": "ede7a1d2",
   "metadata": {
    "execution": {
     "iopub.execute_input": "2023-03-27T05:49:33.872660Z",
     "iopub.status.busy": "2023-03-27T05:49:33.872218Z",
     "iopub.status.idle": "2023-03-27T05:49:40.290124Z",
     "shell.execute_reply": "2023-03-27T05:49:40.288608Z"
    },
    "papermill": {
     "duration": 6.433574,
     "end_time": "2023-03-27T05:49:40.293144",
     "exception": false,
     "start_time": "2023-03-27T05:49:33.859570",
     "status": "completed"
    },
    "tags": []
   },
   "outputs": [],
   "source": [
    "reviews['user'] = label_encoder.fit_transform(reviews['user'])\n",
    "\n",
    "# similarly, we try to optimize memory usage of this dataframe\n",
    "df_cleaner.column_optimizer(df_to_optimize=reviews)\n",
    "\n",
    "reviews = reviews[reviews['id'].isin(games_info['id'])]"
   ]
  },
  {
   "cell_type": "markdown",
   "id": "2dc4e69b",
   "metadata": {
    "papermill": {
     "duration": 0.00873,
     "end_time": "2023-03-27T05:49:40.311241",
     "exception": false,
     "start_time": "2023-03-27T05:49:40.302511",
     "status": "completed"
    },
    "tags": []
   },
   "source": [
    "## EDA"
   ]
  },
  {
   "cell_type": "markdown",
   "id": "a2b0fc30",
   "metadata": {
    "papermill": {
     "duration": 0.009088,
     "end_time": "2023-03-27T05:49:40.330034",
     "exception": false,
     "start_time": "2023-03-27T05:49:40.320946",
     "status": "completed"
    },
    "tags": []
   },
   "source": [
    "Since our model uses only the ratings column, our EDA would focus on that.\n",
    "When we look at the users ratings, we can see that most people rate whole digits, i.e 5,6,7 and less so on fractions such as 7.5, 8.5 etc...\n",
    "\n",
    "Additionally, we see that the rating is normally distributed around 7, which makes sense since it means that low rated games aren't popular, and highly rated games are rare."
   ]
  },
  {
   "cell_type": "code",
   "execution_count": 10,
   "id": "b473739b",
   "metadata": {
    "execution": {
     "iopub.execute_input": "2023-03-27T05:49:40.351128Z",
     "iopub.status.busy": "2023-03-27T05:49:40.350675Z",
     "iopub.status.idle": "2023-03-27T05:49:42.786049Z",
     "shell.execute_reply": "2023-03-27T05:49:42.784676Z"
    },
    "papermill": {
     "duration": 2.449675,
     "end_time": "2023-03-27T05:49:42.789012",
     "exception": false,
     "start_time": "2023-03-27T05:49:40.339337",
     "status": "completed"
    },
    "tags": []
   },
   "outputs": [
    {
     "data": {
      "text/plain": [
       "<seaborn.axisgrid.FacetGrid at 0x7fdb1f8f40d0>"
      ]
     },
     "execution_count": 10,
     "metadata": {},
     "output_type": "execute_result"
    },
    {
     "data": {
      "image/png": "[encoded data removed]",
      "text/plain": [
       "<Figure size 500x500 with 1 Axes>"
      ]
     },
     "metadata": {},
     "output_type": "display_data"
    }
   ],
   "source": [
    "ax = sns.displot(data=reviews, x='rating', stat='percent', fill=\"blue\")\n",
    "ax.set(xlabel=\"Users Ratings\",\n",
    "       ylabel='% of Rating',\n",
    "       title='Distribution of rating across users')"
   ]
  },
  {
   "cell_type": "code",
   "execution_count": 11,
   "id": "de68e3b4",
   "metadata": {
    "execution": {
     "iopub.execute_input": "2023-03-27T05:49:42.813485Z",
     "iopub.status.busy": "2023-03-27T05:49:42.812337Z",
     "iopub.status.idle": "2023-03-27T05:49:42.974555Z",
     "shell.execute_reply": "2023-03-27T05:49:42.973563Z"
    },
    "papermill": {
     "duration": 0.177178,
     "end_time": "2023-03-27T05:49:42.977238",
     "exception": false,
     "start_time": "2023-03-27T05:49:42.800060",
     "status": "completed"
    },
    "tags": []
   },
   "outputs": [
    {
     "data": {
      "text/html": [
       "<div>\n",
       "<style scoped>\n",
       "    .dataframe tbody tr th:only-of-type {\n",
       "        vertical-align: middle;\n",
       "    }\n",
       "\n",
       "    .dataframe tbody tr th {\n",
       "        vertical-align: top;\n",
       "    }\n",
       "\n",
       "    .dataframe thead th {\n",
       "        text-align: right;\n",
       "    }\n",
       "</style>\n",
       "<table border=\"1\" class=\"dataframe\">\n",
       "  <thead>\n",
       "    <tr style=\"text-align: right;\">\n",
       "      <th></th>\n",
       "      <th>id</th>\n",
       "      <th>rating</th>\n",
       "      <th>user</th>\n",
       "    </tr>\n",
       "  </thead>\n",
       "  <tbody>\n",
       "    <tr>\n",
       "      <th>17896</th>\n",
       "      <td>240624</td>\n",
       "      <td>1.000000</td>\n",
       "      <td>19</td>\n",
       "    </tr>\n",
       "    <tr>\n",
       "      <th>12368</th>\n",
       "      <td>144110</td>\n",
       "      <td>1.000000</td>\n",
       "      <td>17</td>\n",
       "    </tr>\n",
       "    <tr>\n",
       "      <th>7608</th>\n",
       "      <td>28257</td>\n",
       "      <td>1.142857</td>\n",
       "      <td>7</td>\n",
       "    </tr>\n",
       "    <tr>\n",
       "      <th>19675</th>\n",
       "      <td>276022</td>\n",
       "      <td>1.145833</td>\n",
       "      <td>48</td>\n",
       "    </tr>\n",
       "    <tr>\n",
       "      <th>1150</th>\n",
       "      <td>1546</td>\n",
       "      <td>1.400000</td>\n",
       "      <td>5</td>\n",
       "    </tr>\n",
       "  </tbody>\n",
       "</table>\n",
       "</div>"
      ],
      "text/plain": [
       "           id    rating  user\n",
       "17896  240624  1.000000    19\n",
       "12368  144110  1.000000    17\n",
       "7608    28257  1.142857     7\n",
       "19675  276022  1.145833    48\n",
       "1150     1546  1.400000     5"
      ]
     },
     "execution_count": 11,
     "metadata": {},
     "output_type": "execute_result"
    }
   ],
   "source": [
    "rated_games = reviews.groupby(\"id\").agg({\"rating\": \"mean\", \"user\": \"count\"}).reset_index()\n",
    "rated_games.sort_values(\"rating\").head()"
   ]
  },
  {
   "cell_type": "code",
   "execution_count": 12,
   "id": "f5eee96c",
   "metadata": {
    "execution": {
     "iopub.execute_input": "2023-03-27T05:49:43.000320Z",
     "iopub.status.busy": "2023-03-27T05:49:42.999625Z",
     "iopub.status.idle": "2023-03-27T05:49:43.025848Z",
     "shell.execute_reply": "2023-03-27T05:49:43.024529Z"
    },
    "papermill": {
     "duration": 0.041295,
     "end_time": "2023-03-27T05:49:43.028839",
     "exception": false,
     "start_time": "2023-03-27T05:49:42.987544",
     "status": "completed"
    },
    "tags": []
   },
   "outputs": [
    {
     "data": {
      "text/html": [
       "<div>\n",
       "<style scoped>\n",
       "    .dataframe tbody tr th:only-of-type {\n",
       "        vertical-align: middle;\n",
       "    }\n",
       "\n",
       "    .dataframe tbody tr th {\n",
       "        vertical-align: top;\n",
       "    }\n",
       "\n",
       "    .dataframe thead th {\n",
       "        text-align: right;\n",
       "    }\n",
       "</style>\n",
       "<table border=\"1\" class=\"dataframe\">\n",
       "  <thead>\n",
       "    <tr style=\"text-align: right;\">\n",
       "      <th></th>\n",
       "      <th>id</th>\n",
       "      <th>rating</th>\n",
       "      <th>user</th>\n",
       "    </tr>\n",
       "  </thead>\n",
       "  <tbody>\n",
       "    <tr>\n",
       "      <th>count</th>\n",
       "      <td>21623.000000</td>\n",
       "      <td>21623.000000</td>\n",
       "      <td>21623.000000</td>\n",
       "    </tr>\n",
       "    <tr>\n",
       "      <th>mean</th>\n",
       "      <td>118162.587060</td>\n",
       "      <td>6.416710</td>\n",
       "      <td>175.251954</td>\n",
       "    </tr>\n",
       "    <tr>\n",
       "      <th>std</th>\n",
       "      <td>105311.991688</td>\n",
       "      <td>0.998625</td>\n",
       "      <td>740.989337</td>\n",
       "    </tr>\n",
       "    <tr>\n",
       "      <th>min</th>\n",
       "      <td>1.000000</td>\n",
       "      <td>1.000000</td>\n",
       "      <td>1.000000</td>\n",
       "    </tr>\n",
       "    <tr>\n",
       "      <th>25%</th>\n",
       "      <td>12290.000000</td>\n",
       "      <td>5.813649</td>\n",
       "      <td>11.000000</td>\n",
       "    </tr>\n",
       "    <tr>\n",
       "      <th>50%</th>\n",
       "      <td>105280.000000</td>\n",
       "      <td>6.468889</td>\n",
       "      <td>25.000000</td>\n",
       "    </tr>\n",
       "    <tr>\n",
       "      <th>75%</th>\n",
       "      <td>207062.500000</td>\n",
       "      <td>7.070379</td>\n",
       "      <td>80.000000</td>\n",
       "    </tr>\n",
       "    <tr>\n",
       "      <th>max</th>\n",
       "      <td>350992.000000</td>\n",
       "      <td>10.000000</td>\n",
       "      <td>21858.000000</td>\n",
       "    </tr>\n",
       "  </tbody>\n",
       "</table>\n",
       "</div>"
      ],
      "text/plain": [
       "                  id        rating          user\n",
       "count   21623.000000  21623.000000  21623.000000\n",
       "mean   118162.587060      6.416710    175.251954\n",
       "std    105311.991688      0.998625    740.989337\n",
       "min         1.000000      1.000000      1.000000\n",
       "25%     12290.000000      5.813649     11.000000\n",
       "50%    105280.000000      6.468889     25.000000\n",
       "75%    207062.500000      7.070379     80.000000\n",
       "max    350992.000000     10.000000  21858.000000"
      ]
     },
     "execution_count": 12,
     "metadata": {},
     "output_type": "execute_result"
    }
   ],
   "source": [
    "# we can see that it is highly skewed, since most of the games have very\n",
    "# low amount of reviews, while the max is very high\n",
    "rated_games.describe()"
   ]
  },
  {
   "cell_type": "code",
   "execution_count": 13,
   "id": "665d309f",
   "metadata": {
    "execution": {
     "iopub.execute_input": "2023-03-27T05:49:43.051744Z",
     "iopub.status.busy": "2023-03-27T05:49:43.051008Z",
     "iopub.status.idle": "2023-03-27T05:49:43.310413Z",
     "shell.execute_reply": "2023-03-27T05:49:43.308901Z"
    },
    "papermill": {
     "duration": 0.274121,
     "end_time": "2023-03-27T05:49:43.313058",
     "exception": false,
     "start_time": "2023-03-27T05:49:43.038937",
     "status": "completed"
    },
    "tags": []
   },
   "outputs": [
    {
     "data": {
      "image/png": "[encoded data removed]",
      "text/plain": [
       "<Figure size 640x480 with 1 Axes>"
      ]
     },
     "metadata": {},
     "output_type": "display_data"
    }
   ],
   "source": [
    "chart = sns.ecdfplot(data=rated_games, x='user')\n",
    "chart.set(xlabel=\"Number of users\",\n",
    "       ylabel='% of games',\n",
    "       title='Cummulative distribution of number of reviews per game')\n",
    "chart.yaxis.set_major_formatter(PercentFormatter(1,0))"
   ]
  },
  {
   "cell_type": "code",
   "execution_count": 14,
   "id": "f2c18d3f",
   "metadata": {
    "execution": {
     "iopub.execute_input": "2023-03-27T05:49:43.338651Z",
     "iopub.status.busy": "2023-03-27T05:49:43.337279Z",
     "iopub.status.idle": "2023-03-27T05:49:43.786328Z",
     "shell.execute_reply": "2023-03-27T05:49:43.784952Z"
    },
    "papermill": {
     "duration": 0.464812,
     "end_time": "2023-03-27T05:49:43.789362",
     "exception": false,
     "start_time": "2023-03-27T05:49:43.324550",
     "status": "completed"
    },
    "tags": []
   },
   "outputs": [
    {
     "data": {
      "text/plain": [
       "[Text(0.5, 0, 'Average score'),\n",
       " Text(0, 0.5, 'Number of games'),\n",
       " Text(0.5, 1.0, 'Distribution of average rating per game')]"
      ]
     },
     "execution_count": 14,
     "metadata": {},
     "output_type": "execute_result"
    },
    {
     "data": {
      "image/png": "[encoded data removed]",
      "text/plain": [
       "<Figure size 640x480 with 1 Axes>"
      ]
     },
     "metadata": {},
     "output_type": "display_data"
    }
   ],
   "source": [
    "# similar to what we saw in the reviews histogram, most games are rated around 7\n",
    "# with a larger tail towards the lower scores\n",
    "ax = sns.histplot(data=games_info, x='average')\n",
    "ax.set(xlabel=\"Average score\",\n",
    "       ylabel='Number of games',\n",
    "       title='Distribution of average rating per game')"
   ]
  },
  {
   "cell_type": "code",
   "execution_count": 15,
   "id": "08336811",
   "metadata": {
    "execution": {
     "iopub.execute_input": "2023-03-27T05:49:43.814376Z",
     "iopub.status.busy": "2023-03-27T05:49:43.813921Z",
     "iopub.status.idle": "2023-03-27T05:49:53.652914Z",
     "shell.execute_reply": "2023-03-27T05:49:53.651415Z"
    },
    "papermill": {
     "duration": 9.855283,
     "end_time": "2023-03-27T05:49:53.656325",
     "exception": false,
     "start_time": "2023-03-27T05:49:43.801042",
     "status": "completed"
    },
    "tags": []
   },
   "outputs": [
    {
     "data": {
      "text/plain": [
       "Text(0.5, 0.98, 'Number of games by average score')"
      ]
     },
     "execution_count": 15,
     "metadata": {},
     "output_type": "execute_result"
    },
    {
     "data": {
      "image/png": "[encoded data removed]",
      "text/plain": [
       "<Figure size 600x600 with 3 Axes>"
      ]
     },
     "metadata": {},
     "output_type": "display_data"
    }
   ],
   "source": [
    "# a game that has more users who rated it, is more likely to have a higher score\n",
    "# which make sense because people will tend to play and rate more likeable games\n",
    "chart = sns.jointplot(data=rated_games, x='rating',y='user', alpha=0.5)\n",
    "chart.set_axis_labels(xlabel=\"Average score\", ylabel='Number of games')\n",
    "chart.fig.suptitle('Number of games by average score')"
   ]
  },
  {
   "cell_type": "markdown",
   "id": "f7ad7dde",
   "metadata": {
    "papermill": {
     "duration": 0.012621,
     "end_time": "2023-03-27T05:49:53.682396",
     "exception": false,
     "start_time": "2023-03-27T05:49:53.669775",
     "status": "completed"
    },
    "tags": []
   },
   "source": [
    "## Recommender Model"
   ]
  },
  {
   "cell_type": "code",
   "execution_count": 16,
   "id": "bdaf32d3",
   "metadata": {
    "execution": {
     "iopub.execute_input": "2023-03-27T05:49:53.710139Z",
     "iopub.status.busy": "2023-03-27T05:49:53.709047Z",
     "iopub.status.idle": "2023-03-27T05:49:53.718347Z",
     "shell.execute_reply": "2023-03-27T05:49:53.716863Z"
    },
    "papermill": {
     "duration": 0.026344,
     "end_time": "2023-03-27T05:49:53.721314",
     "exception": false,
     "start_time": "2023-03-27T05:49:53.694970",
     "status": "completed"
    },
    "tags": []
   },
   "outputs": [],
   "source": [
    "# for the sake of the example, the model is only going to use the top X games\n",
    "# in terms of the number of raters\n",
    "rated_games = rated_games.sort_values(by='user', ascending=False)\n",
    "rated_games = rated_games.head(TOP_GAMES)"
   ]
  },
  {
   "cell_type": "code",
   "execution_count": 17,
   "id": "688dcd9d",
   "metadata": {
    "execution": {
     "iopub.execute_input": "2023-03-27T05:49:53.749188Z",
     "iopub.status.busy": "2023-03-27T05:49:53.748762Z",
     "iopub.status.idle": "2023-03-27T05:49:53.819904Z",
     "shell.execute_reply": "2023-03-27T05:49:53.818673Z"
    },
    "papermill": {
     "duration": 0.088466,
     "end_time": "2023-03-27T05:49:53.822770",
     "exception": false,
     "start_time": "2023-03-27T05:49:53.734304",
     "status": "completed"
    },
    "tags": []
   },
   "outputs": [
    {
     "data": {
      "text/plain": [
       "2396877"
      ]
     },
     "execution_count": 17,
     "metadata": {},
     "output_type": "execute_result"
    }
   ],
   "source": [
    "# after filtering, we are left with about 50% of the original size\n",
    "sample_reviews = reviews[reviews['id'].isin(rated_games['id'])]\n",
    "len(sample_reviews)"
   ]
  },
  {
   "cell_type": "code",
   "execution_count": 18,
   "id": "b2df068a",
   "metadata": {
    "execution": {
     "iopub.execute_input": "2023-03-27T05:49:53.850559Z",
     "iopub.status.busy": "2023-03-27T05:49:53.849389Z",
     "iopub.status.idle": "2023-03-27T05:50:02.751994Z",
     "shell.execute_reply": "2023-03-27T05:50:02.750728Z"
    },
    "papermill": {
     "duration": 8.919732,
     "end_time": "2023-03-27T05:50:02.755062",
     "exception": false,
     "start_time": "2023-03-27T05:49:53.835330",
     "status": "completed"
    },
    "tags": []
   },
   "outputs": [
    {
     "data": {
      "text/html": [
       "<div>\n",
       "<style scoped>\n",
       "    .dataframe tbody tr th:only-of-type {\n",
       "        vertical-align: middle;\n",
       "    }\n",
       "\n",
       "    .dataframe tbody tr th {\n",
       "        vertical-align: top;\n",
       "    }\n",
       "\n",
       "    .dataframe thead th {\n",
       "        text-align: right;\n",
       "    }\n",
       "</style>\n",
       "<table border=\"1\" class=\"dataframe\">\n",
       "  <thead>\n",
       "    <tr style=\"text-align: right;\">\n",
       "      <th>id</th>\n",
       "      <th>1</th>\n",
       "      <th>3</th>\n",
       "      <th>5</th>\n",
       "      <th>10</th>\n",
       "      <th>11</th>\n",
       "      <th>12</th>\n",
       "      <th>13</th>\n",
       "      <th>15</th>\n",
       "      <th>18</th>\n",
       "      <th>28</th>\n",
       "      <th>...</th>\n",
       "      <th>300531</th>\n",
       "      <th>306735</th>\n",
       "      <th>308765</th>\n",
       "      <th>312484</th>\n",
       "      <th>314040</th>\n",
       "      <th>316554</th>\n",
       "      <th>317985</th>\n",
       "      <th>318977</th>\n",
       "      <th>328871</th>\n",
       "      <th>329465</th>\n",
       "    </tr>\n",
       "    <tr>\n",
       "      <th>user</th>\n",
       "      <th></th>\n",
       "      <th></th>\n",
       "      <th></th>\n",
       "      <th></th>\n",
       "      <th></th>\n",
       "      <th></th>\n",
       "      <th></th>\n",
       "      <th></th>\n",
       "      <th></th>\n",
       "      <th></th>\n",
       "      <th></th>\n",
       "      <th></th>\n",
       "      <th></th>\n",
       "      <th></th>\n",
       "      <th></th>\n",
       "      <th></th>\n",
       "      <th></th>\n",
       "      <th></th>\n",
       "      <th></th>\n",
       "      <th></th>\n",
       "      <th></th>\n",
       "    </tr>\n",
       "  </thead>\n",
       "  <tbody>\n",
       "    <tr>\n",
       "      <th>0</th>\n",
       "      <td>NaN</td>\n",
       "      <td>NaN</td>\n",
       "      <td>NaN</td>\n",
       "      <td>NaN</td>\n",
       "      <td>NaN</td>\n",
       "      <td>NaN</td>\n",
       "      <td>NaN</td>\n",
       "      <td>NaN</td>\n",
       "      <td>NaN</td>\n",
       "      <td>NaN</td>\n",
       "      <td>...</td>\n",
       "      <td>NaN</td>\n",
       "      <td>NaN</td>\n",
       "      <td>NaN</td>\n",
       "      <td>NaN</td>\n",
       "      <td>NaN</td>\n",
       "      <td>NaN</td>\n",
       "      <td>NaN</td>\n",
       "      <td>NaN</td>\n",
       "      <td>NaN</td>\n",
       "      <td>NaN</td>\n",
       "    </tr>\n",
       "    <tr>\n",
       "      <th>1</th>\n",
       "      <td>NaN</td>\n",
       "      <td>NaN</td>\n",
       "      <td>NaN</td>\n",
       "      <td>NaN</td>\n",
       "      <td>NaN</td>\n",
       "      <td>NaN</td>\n",
       "      <td>9.0</td>\n",
       "      <td>NaN</td>\n",
       "      <td>NaN</td>\n",
       "      <td>NaN</td>\n",
       "      <td>...</td>\n",
       "      <td>NaN</td>\n",
       "      <td>NaN</td>\n",
       "      <td>NaN</td>\n",
       "      <td>NaN</td>\n",
       "      <td>NaN</td>\n",
       "      <td>NaN</td>\n",
       "      <td>NaN</td>\n",
       "      <td>NaN</td>\n",
       "      <td>NaN</td>\n",
       "      <td>NaN</td>\n",
       "    </tr>\n",
       "  </tbody>\n",
       "</table>\n",
       "<p>2 rows × 1000 columns</p>\n",
       "</div>"
      ],
      "text/plain": [
       "id    1       3       5       10      11      12      13      15      18      \\\n",
       "user                                                                           \n",
       "0        NaN     NaN     NaN     NaN     NaN     NaN     NaN     NaN     NaN   \n",
       "1        NaN     NaN     NaN     NaN     NaN     NaN     9.0     NaN     NaN   \n",
       "\n",
       "id    28      ...  300531  306735  308765  312484  314040  316554  317985  \\\n",
       "user          ...                                                           \n",
       "0        NaN  ...     NaN     NaN     NaN     NaN     NaN     NaN     NaN   \n",
       "1        NaN  ...     NaN     NaN     NaN     NaN     NaN     NaN     NaN   \n",
       "\n",
       "id    318977  328871  329465  \n",
       "user                          \n",
       "0        NaN     NaN     NaN  \n",
       "1        NaN     NaN     NaN  \n",
       "\n",
       "[2 rows x 1000 columns]"
      ]
     },
     "execution_count": 18,
     "metadata": {},
     "output_type": "execute_result"
    }
   ],
   "source": [
    "games_matrix = sample_reviews.pivot_table(index='user',columns='id',values='rating')\n",
    "games_matrix.head(2)"
   ]
  },
  {
   "cell_type": "code",
   "execution_count": 19,
   "id": "066f4aea",
   "metadata": {
    "execution": {
     "iopub.execute_input": "2023-03-27T05:50:02.783629Z",
     "iopub.status.busy": "2023-03-27T05:50:02.783171Z",
     "iopub.status.idle": "2023-03-27T05:50:02.789383Z",
     "shell.execute_reply": "2023-03-27T05:50:02.788040Z"
    },
    "papermill": {
     "duration": 0.023686,
     "end_time": "2023-03-27T05:50:02.791895",
     "exception": false,
     "start_time": "2023-03-27T05:50:02.768209",
     "status": "completed"
    },
    "tags": []
   },
   "outputs": [],
   "source": [
    "# lets pick a game a see the recommendations for it\n",
    "# if you havn't picked a game in the constants, we would pick a random one\n",
    "if EXAMPLE_GAME is None:\n",
    "    random_game = rated_games.sample(1).to_dict('records')[0]\n",
    "    game_id = random_game['id']\n",
    "else:\n",
    "    game_id = EXAMPLE_GAME"
   ]
  },
  {
   "cell_type": "code",
   "execution_count": 20,
   "id": "ff7796a9",
   "metadata": {
    "execution": {
     "iopub.execute_input": "2023-03-27T05:50:02.820773Z",
     "iopub.status.busy": "2023-03-27T05:50:02.820063Z",
     "iopub.status.idle": "2023-03-27T05:50:03.573259Z",
     "shell.execute_reply": "2023-03-27T05:50:03.571779Z"
    },
    "papermill": {
     "duration": 0.770959,
     "end_time": "2023-03-27T05:50:03.576230",
     "exception": false,
     "start_time": "2023-03-27T05:50:02.805271",
     "status": "completed"
    },
    "tags": []
   },
   "outputs": [],
   "source": [
    "single_game_corr = games_matrix.corrwith(games_matrix[game_id])\n",
    "single_game_corr = pd.DataFrame(single_game_corr, columns=[\"correlation\"])\n",
    "single_game_corr = single_game_corr.dropna().sort_values(by=\"correlation\",ascending=False)\n",
    "recommender_results = single_game_corr.join(games_info.set_index(\"id\")).reset_index()"
   ]
  },
  {
   "cell_type": "code",
   "execution_count": 21,
   "id": "4a83b03b",
   "metadata": {
    "execution": {
     "iopub.execute_input": "2023-03-27T05:50:03.604601Z",
     "iopub.status.busy": "2023-03-27T05:50:03.604165Z",
     "iopub.status.idle": "2023-03-27T05:50:03.637616Z",
     "shell.execute_reply": "2023-03-27T05:50:03.636259Z"
    },
    "papermill": {
     "duration": 0.051228,
     "end_time": "2023-03-27T05:50:03.640641",
     "exception": false,
     "start_time": "2023-03-27T05:50:03.589413",
     "status": "completed"
    },
    "tags": []
   },
   "outputs": [
    {
     "data": {
      "text/html": [
       "<div>\n",
       "<style scoped>\n",
       "    .dataframe tbody tr th:only-of-type {\n",
       "        vertical-align: middle;\n",
       "    }\n",
       "\n",
       "    .dataframe tbody tr th {\n",
       "        vertical-align: top;\n",
       "    }\n",
       "\n",
       "    .dataframe thead th {\n",
       "        text-align: right;\n",
       "    }\n",
       "</style>\n",
       "<table border=\"1\" class=\"dataframe\">\n",
       "  <thead>\n",
       "    <tr style=\"text-align: right;\">\n",
       "      <th></th>\n",
       "      <th>id</th>\n",
       "      <th>correlation</th>\n",
       "      <th>primary</th>\n",
       "      <th>yearpublished</th>\n",
       "      <th>minplayers</th>\n",
       "      <th>maxplayers</th>\n",
       "      <th>playingtime</th>\n",
       "      <th>boardgamecategory</th>\n",
       "      <th>boardgamemechanic</th>\n",
       "      <th>boardgamefamily</th>\n",
       "      <th>boardgamedesigner</th>\n",
       "      <th>boardgamepublisher</th>\n",
       "      <th>usersrated</th>\n",
       "      <th>average</th>\n",
       "      <th>Board Game Rank</th>\n",
       "      <th>numcomments</th>\n",
       "      <th>averageweight</th>\n",
       "    </tr>\n",
       "  </thead>\n",
       "  <tbody>\n",
       "    <tr>\n",
       "      <th>2</th>\n",
       "      <td>22825</td>\n",
       "      <td>0.855067</td>\n",
       "      <td>Tide of Iron</td>\n",
       "      <td>2007</td>\n",
       "      <td>2.0</td>\n",
       "      <td>4.0</td>\n",
       "      <td>120.0</td>\n",
       "      <td>['Miniatures', 'Wargame', 'World War II']</td>\n",
       "      <td>['Action Points', 'Dice Rolling', 'Hand Manage...</td>\n",
       "      <td>['Admin: Better Description Needed!', 'Game: T...</td>\n",
       "      <td>['John Goodenough', 'Corey Konieczka', 'Christ...</td>\n",
       "      <td>['Fantasy Flight Games', 'Edge Entertainment',...</td>\n",
       "      <td>3776</td>\n",
       "      <td>7.20387</td>\n",
       "      <td>905.0</td>\n",
       "      <td>1192</td>\n",
       "      <td>3.4579</td>\n",
       "    </tr>\n",
       "    <tr>\n",
       "      <th>3</th>\n",
       "      <td>12902</td>\n",
       "      <td>0.814896</td>\n",
       "      <td>Carcassonne: The City</td>\n",
       "      <td>2004</td>\n",
       "      <td>2.0</td>\n",
       "      <td>4.0</td>\n",
       "      <td>45.0</td>\n",
       "      <td>['City Building', 'Medieval']</td>\n",
       "      <td>['Area Majority / Influence', 'Tile Placement']</td>\n",
       "      <td>['Cities: Carcassonne (France)', 'Game: Carcas...</td>\n",
       "      <td>['Klaus-Jürgen Wrede']</td>\n",
       "      <td>['Hans im Glück', '999 Games', 'Ísöld ehf.', '...</td>\n",
       "      <td>4286</td>\n",
       "      <td>7.20872</td>\n",
       "      <td>737.0</td>\n",
       "      <td>1305</td>\n",
       "      <td>2.2644</td>\n",
       "    </tr>\n",
       "    <tr>\n",
       "      <th>4</th>\n",
       "      <td>42776</td>\n",
       "      <td>0.761469</td>\n",
       "      <td>Gears of War: The Board Game</td>\n",
       "      <td>2011</td>\n",
       "      <td>1.0</td>\n",
       "      <td>4.0</td>\n",
       "      <td>180.0</td>\n",
       "      <td>['Fighting', 'Miniatures', 'Science Fiction', ...</td>\n",
       "      <td>['Area Movement', 'Campaign / Battle Card Driv...</td>\n",
       "      <td>['Category: Dungeon Crawler', 'Components: Mul...</td>\n",
       "      <td>['Corey Konieczka']</td>\n",
       "      <td>['Fantasy Flight Games', 'Edge Entertainment',...</td>\n",
       "      <td>4828</td>\n",
       "      <td>7.46270</td>\n",
       "      <td>522.0</td>\n",
       "      <td>1180</td>\n",
       "      <td>2.8844</td>\n",
       "    </tr>\n",
       "    <tr>\n",
       "      <th>5</th>\n",
       "      <td>298047</td>\n",
       "      <td>0.749473</td>\n",
       "      <td>Marvel United</td>\n",
       "      <td>2020</td>\n",
       "      <td>1.0</td>\n",
       "      <td>4.0</td>\n",
       "      <td>40.0</td>\n",
       "      <td>['Card Game', 'Comic Book / Strip', 'Fighting']</td>\n",
       "      <td>['Cooperative Game', 'Hand Management', 'Modul...</td>\n",
       "      <td>['Admin: Better Description Needed!', 'Comic B...</td>\n",
       "      <td>['Andrea Chiarvesio', 'Eric M. Lang']</td>\n",
       "      <td>['CMON Global Limited', 'Spin Master Ltd.', 'A...</td>\n",
       "      <td>4306</td>\n",
       "      <td>7.68042</td>\n",
       "      <td>409.0</td>\n",
       "      <td>871</td>\n",
       "      <td>1.8271</td>\n",
       "    </tr>\n",
       "    <tr>\n",
       "      <th>6</th>\n",
       "      <td>139976</td>\n",
       "      <td>0.712134</td>\n",
       "      <td>Cthulhu Wars</td>\n",
       "      <td>2015</td>\n",
       "      <td>2.0</td>\n",
       "      <td>4.0</td>\n",
       "      <td>120.0</td>\n",
       "      <td>['Fantasy', 'Fighting', 'Horror', 'Miniatures']</td>\n",
       "      <td>['Action Points', 'Area Majority / Influence',...</td>\n",
       "      <td>['Crowdfunding: Kickstarter', 'Game: Cthulhu W...</td>\n",
       "      <td>['Sandy Petersen', 'Lincoln Petersen']</td>\n",
       "      <td>['Petersen Games', 'Arclight', 'BoardM Factory...</td>\n",
       "      <td>4899</td>\n",
       "      <td>7.90088</td>\n",
       "      <td>269.0</td>\n",
       "      <td>1067</td>\n",
       "      <td>3.1457</td>\n",
       "    </tr>\n",
       "  </tbody>\n",
       "</table>\n",
       "</div>"
      ],
      "text/plain": [
       "       id  correlation                       primary  yearpublished  \\\n",
       "2   22825     0.855067                  Tide of Iron           2007   \n",
       "3   12902     0.814896         Carcassonne: The City           2004   \n",
       "4   42776     0.761469  Gears of War: The Board Game           2011   \n",
       "5  298047     0.749473                 Marvel United           2020   \n",
       "6  139976     0.712134                  Cthulhu Wars           2015   \n",
       "\n",
       "   minplayers  maxplayers  playingtime  \\\n",
       "2         2.0         4.0        120.0   \n",
       "3         2.0         4.0         45.0   \n",
       "4         1.0         4.0        180.0   \n",
       "5         1.0         4.0         40.0   \n",
       "6         2.0         4.0        120.0   \n",
       "\n",
       "                                   boardgamecategory  \\\n",
       "2          ['Miniatures', 'Wargame', 'World War II']   \n",
       "3                      ['City Building', 'Medieval']   \n",
       "4  ['Fighting', 'Miniatures', 'Science Fiction', ...   \n",
       "5    ['Card Game', 'Comic Book / Strip', 'Fighting']   \n",
       "6    ['Fantasy', 'Fighting', 'Horror', 'Miniatures']   \n",
       "\n",
       "                                   boardgamemechanic  \\\n",
       "2  ['Action Points', 'Dice Rolling', 'Hand Manage...   \n",
       "3    ['Area Majority / Influence', 'Tile Placement']   \n",
       "4  ['Area Movement', 'Campaign / Battle Card Driv...   \n",
       "5  ['Cooperative Game', 'Hand Management', 'Modul...   \n",
       "6  ['Action Points', 'Area Majority / Influence',...   \n",
       "\n",
       "                                     boardgamefamily  \\\n",
       "2  ['Admin: Better Description Needed!', 'Game: T...   \n",
       "3  ['Cities: Carcassonne (France)', 'Game: Carcas...   \n",
       "4  ['Category: Dungeon Crawler', 'Components: Mul...   \n",
       "5  ['Admin: Better Description Needed!', 'Comic B...   \n",
       "6  ['Crowdfunding: Kickstarter', 'Game: Cthulhu W...   \n",
       "\n",
       "                                   boardgamedesigner  \\\n",
       "2  ['John Goodenough', 'Corey Konieczka', 'Christ...   \n",
       "3                             ['Klaus-Jürgen Wrede']   \n",
       "4                                ['Corey Konieczka']   \n",
       "5              ['Andrea Chiarvesio', 'Eric M. Lang']   \n",
       "6             ['Sandy Petersen', 'Lincoln Petersen']   \n",
       "\n",
       "                                  boardgamepublisher  usersrated  average  \\\n",
       "2  ['Fantasy Flight Games', 'Edge Entertainment',...        3776  7.20387   \n",
       "3  ['Hans im Glück', '999 Games', 'Ísöld ehf.', '...        4286  7.20872   \n",
       "4  ['Fantasy Flight Games', 'Edge Entertainment',...        4828  7.46270   \n",
       "5  ['CMON Global Limited', 'Spin Master Ltd.', 'A...        4306  7.68042   \n",
       "6  ['Petersen Games', 'Arclight', 'BoardM Factory...        4899  7.90088   \n",
       "\n",
       "   Board Game Rank  numcomments  averageweight  \n",
       "2            905.0         1192         3.4579  \n",
       "3            737.0         1305         2.2644  \n",
       "4            522.0         1180         2.8844  \n",
       "5            409.0          871         1.8271  \n",
       "6            269.0         1067         3.1457  "
      ]
     },
     "execution_count": 21,
     "metadata": {},
     "output_type": "execute_result"
    }
   ],
   "source": [
    "# lets filter out the list to find the best recommendations\n",
    "\n",
    "# filter the game that we used\n",
    "recommender_results = recommender_results[recommender_results['id']!=game_id]\n",
    "# filter based on correlation\n",
    "recommender_results = recommender_results[recommender_results['correlation']>=CORRELATION_THRESHOLD]\n",
    "for filter_type, filter_value in CATEGORY_FILTER.items():\n",
    "    if filter_value is not None:\n",
    "        recommender_results = recommender_results[recommender_results[filter_type].str.contains(filter_value)]\n",
    "for filter_type, filter_value in NUMERIC_FILTER.items():\n",
    "    if filter_value is not None:\n",
    "        if filter_value['measure'] == \"above\":\n",
    "            recommender_results = recommender_results[recommender_results[filter_type]>=filter_value['threshold']]\n",
    "        else:\n",
    "            recommender_results = recommender_results[recommender_results[filter_type]<=filter_value['threshold']]\n",
    "# see the top 5 results\n",
    "recommender_results.head()"
   ]
  },
  {
   "cell_type": "code",
   "execution_count": 22,
   "id": "f0b2a59c",
   "metadata": {
    "execution": {
     "iopub.execute_input": "2023-03-27T05:50:03.669977Z",
     "iopub.status.busy": "2023-03-27T05:50:03.669506Z",
     "iopub.status.idle": "2023-03-27T05:50:03.692613Z",
     "shell.execute_reply": "2023-03-27T05:50:03.691049Z"
    },
    "papermill": {
     "duration": 0.041339,
     "end_time": "2023-03-27T05:50:03.695654",
     "exception": false,
     "start_time": "2023-03-27T05:50:03.654315",
     "status": "completed"
    },
    "tags": []
   },
   "outputs": [
    {
     "data": {
      "text/html": [
       "<div>\n",
       "<style scoped>\n",
       "    .dataframe tbody tr th:only-of-type {\n",
       "        vertical-align: middle;\n",
       "    }\n",
       "\n",
       "    .dataframe tbody tr th {\n",
       "        vertical-align: top;\n",
       "    }\n",
       "\n",
       "    .dataframe thead th {\n",
       "        text-align: right;\n",
       "    }\n",
       "</style>\n",
       "<table border=\"1\" class=\"dataframe\">\n",
       "  <thead>\n",
       "    <tr style=\"text-align: right;\">\n",
       "      <th></th>\n",
       "      <th>id</th>\n",
       "      <th>primary</th>\n",
       "      <th>yearpublished</th>\n",
       "      <th>minplayers</th>\n",
       "      <th>maxplayers</th>\n",
       "      <th>playingtime</th>\n",
       "      <th>boardgamecategory</th>\n",
       "      <th>boardgamemechanic</th>\n",
       "      <th>boardgamefamily</th>\n",
       "      <th>boardgamedesigner</th>\n",
       "      <th>boardgamepublisher</th>\n",
       "      <th>usersrated</th>\n",
       "      <th>average</th>\n",
       "      <th>Board Game Rank</th>\n",
       "      <th>numcomments</th>\n",
       "      <th>averageweight</th>\n",
       "    </tr>\n",
       "  </thead>\n",
       "  <tbody>\n",
       "    <tr>\n",
       "      <th>339</th>\n",
       "      <td>183840</td>\n",
       "      <td>Oh My Goods!</td>\n",
       "      <td>2015</td>\n",
       "      <td>2.0</td>\n",
       "      <td>4.0</td>\n",
       "      <td>30.0</td>\n",
       "      <td>['Card Game', 'Economic', 'Medieval']</td>\n",
       "      <td>['Action Queue', 'Hand Management', 'Push Your...</td>\n",
       "      <td>['Admin: Better Description Needed!', 'Compone...</td>\n",
       "      <td>['Alexander Pfister']</td>\n",
       "      <td>['Lookout Games', 'Österreichisches Spiele Mus...</td>\n",
       "      <td>10434</td>\n",
       "      <td>7.00019</td>\n",
       "      <td>662.0</td>\n",
       "      <td>1802</td>\n",
       "      <td>2.2917</td>\n",
       "    </tr>\n",
       "  </tbody>\n",
       "</table>\n",
       "</div>"
      ],
      "text/plain": [
       "         id       primary  yearpublished  minplayers  maxplayers  playingtime  \\\n",
       "339  183840  Oh My Goods!           2015         2.0         4.0         30.0   \n",
       "\n",
       "                         boardgamecategory  \\\n",
       "339  ['Card Game', 'Economic', 'Medieval']   \n",
       "\n",
       "                                     boardgamemechanic  \\\n",
       "339  ['Action Queue', 'Hand Management', 'Push Your...   \n",
       "\n",
       "                                       boardgamefamily      boardgamedesigner  \\\n",
       "339  ['Admin: Better Description Needed!', 'Compone...  ['Alexander Pfister']   \n",
       "\n",
       "                                    boardgamepublisher  usersrated  average  \\\n",
       "339  ['Lookout Games', 'Österreichisches Spiele Mus...       10434  7.00019   \n",
       "\n",
       "     Board Game Rank  numcomments  averageweight  \n",
       "339            662.0         1802         2.2917  "
      ]
     },
     "execution_count": 22,
     "metadata": {},
     "output_type": "execute_result"
    }
   ],
   "source": [
    "# so if you liked this game\n",
    "games_info[games_info['id']==game_id]"
   ]
  },
  {
   "cell_type": "code",
   "execution_count": 23,
   "id": "bba2f2c7",
   "metadata": {
    "execution": {
     "iopub.execute_input": "2023-03-27T05:50:03.725635Z",
     "iopub.status.busy": "2023-03-27T05:50:03.724810Z",
     "iopub.status.idle": "2023-03-27T05:50:03.746725Z",
     "shell.execute_reply": "2023-03-27T05:50:03.745170Z"
    },
    "papermill": {
     "duration": 0.039484,
     "end_time": "2023-03-27T05:50:03.749105",
     "exception": false,
     "start_time": "2023-03-27T05:50:03.709621",
     "status": "completed"
    },
    "tags": []
   },
   "outputs": [
    {
     "data": {
      "text/html": [
       "<div>\n",
       "<style scoped>\n",
       "    .dataframe tbody tr th:only-of-type {\n",
       "        vertical-align: middle;\n",
       "    }\n",
       "\n",
       "    .dataframe tbody tr th {\n",
       "        vertical-align: top;\n",
       "    }\n",
       "\n",
       "    .dataframe thead th {\n",
       "        text-align: right;\n",
       "    }\n",
       "</style>\n",
       "<table border=\"1\" class=\"dataframe\">\n",
       "  <thead>\n",
       "    <tr style=\"text-align: right;\">\n",
       "      <th></th>\n",
       "      <th>id</th>\n",
       "      <th>correlation</th>\n",
       "      <th>primary</th>\n",
       "      <th>yearpublished</th>\n",
       "      <th>minplayers</th>\n",
       "      <th>maxplayers</th>\n",
       "      <th>playingtime</th>\n",
       "      <th>boardgamecategory</th>\n",
       "      <th>boardgamemechanic</th>\n",
       "      <th>boardgamefamily</th>\n",
       "      <th>boardgamedesigner</th>\n",
       "      <th>boardgamepublisher</th>\n",
       "      <th>usersrated</th>\n",
       "      <th>average</th>\n",
       "      <th>Board Game Rank</th>\n",
       "      <th>numcomments</th>\n",
       "      <th>averageweight</th>\n",
       "    </tr>\n",
       "  </thead>\n",
       "  <tbody>\n",
       "    <tr>\n",
       "      <th>2</th>\n",
       "      <td>22825</td>\n",
       "      <td>0.855067</td>\n",
       "      <td>Tide of Iron</td>\n",
       "      <td>2007</td>\n",
       "      <td>2.0</td>\n",
       "      <td>4.0</td>\n",
       "      <td>120.0</td>\n",
       "      <td>['Miniatures', 'Wargame', 'World War II']</td>\n",
       "      <td>['Action Points', 'Dice Rolling', 'Hand Manage...</td>\n",
       "      <td>['Admin: Better Description Needed!', 'Game: T...</td>\n",
       "      <td>['John Goodenough', 'Corey Konieczka', 'Christ...</td>\n",
       "      <td>['Fantasy Flight Games', 'Edge Entertainment',...</td>\n",
       "      <td>3776</td>\n",
       "      <td>7.20387</td>\n",
       "      <td>905.0</td>\n",
       "      <td>1192</td>\n",
       "      <td>3.4579</td>\n",
       "    </tr>\n",
       "  </tbody>\n",
       "</table>\n",
       "</div>"
      ],
      "text/plain": [
       "      id  correlation       primary  yearpublished  minplayers  maxplayers  \\\n",
       "2  22825     0.855067  Tide of Iron           2007         2.0         4.0   \n",
       "\n",
       "   playingtime                          boardgamecategory  \\\n",
       "2        120.0  ['Miniatures', 'Wargame', 'World War II']   \n",
       "\n",
       "                                   boardgamemechanic  \\\n",
       "2  ['Action Points', 'Dice Rolling', 'Hand Manage...   \n",
       "\n",
       "                                     boardgamefamily  \\\n",
       "2  ['Admin: Better Description Needed!', 'Game: T...   \n",
       "\n",
       "                                   boardgamedesigner  \\\n",
       "2  ['John Goodenough', 'Corey Konieczka', 'Christ...   \n",
       "\n",
       "                                  boardgamepublisher  usersrated  average  \\\n",
       "2  ['Fantasy Flight Games', 'Edge Entertainment',...        3776  7.20387   \n",
       "\n",
       "   Board Game Rank  numcomments  averageweight  \n",
       "2            905.0         1192         3.4579  "
      ]
     },
     "execution_count": 23,
     "metadata": {},
     "output_type": "execute_result"
    }
   ],
   "source": [
    "# then maybe you should try out \n",
    "recommender_results.head(1)"
   ]
  }
 ],
 "metadata": {
  "kernelspec": {
   "display_name": "Python 3",
   "language": "python",
   "name": "python3"
  },
  "language_info": {
   "codemirror_mode": {
    "name": "ipython",
    "version": 3
   },
   "file_extension": ".py",
   "mimetype": "text/x-python",
   "name": "python",
   "nbconvert_exporter": "python",
   "pygments_lexer": "ipython3",
   "version": "3.7.12"
  },
  "papermill": {
   "default_parameters": {},
   "duration": 84.194515,
   "end_time": "2023-03-27T05:50:04.989325",
   "environment_variables": {},
   "exception": null,
   "input_path": "__notebook__.ipynb",
   "output_path": "__notebook__.ipynb",
   "parameters": {},
   "start_time": "2023-03-27T05:48:40.794810",
   "version": "2.4.0"
  }
 },
 "nbformat": 4,
 "nbformat_minor": 5
}
